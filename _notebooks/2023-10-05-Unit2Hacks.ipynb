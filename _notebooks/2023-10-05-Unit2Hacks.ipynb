{
 "cells": [
  {
   "cell_type": "markdown",
   "metadata": {},
   "source": [
    "---\n",
    "toc: true\n",
    "comments: true\n",
    "layout: post\n",
    "title: Unit 2 Hacks\n",
    "description: My answer to the Unit 2 hacks\n",
    "type: hacks\n",
    "courses: {csa: {week: 5}}\n",
    "---"
   ]
  },
  {
   "cell_type": "markdown",
   "metadata": {},
   "source": [
    "# Here is the list of the unit 2 hacks.\n",
    "\n",
    "Note: This is due Monday! Write your hacks in a Jupyter Notebook and then DM them to us over slack by Monday Morning at 8:00 AM. For full credit, all criteria in the hacks must be completed and show some originality.\n",
    "\n",
    "## Hack 1:\n",
    "Create a void method that takes an integer input and adds it to an ArrayList. Then, add a non-void method that is able to call a certain index from the ArrayList."
   ]
  },
  {
   "cell_type": "code",
   "execution_count": 11,
   "metadata": {
    "vscode": {
     "languageId": "java"
    }
   },
   "outputs": [
    {
     "name": "stdout",
     "output_type": "stream",
     "text": [
      "Enter a number to add to the ArrayList: "
     ]
    },
    {
     "name": "stdout",
     "output_type": "stream",
     "text": [
      "Enter the index you want to access (0-5): Value at index 5: 6\n"
     ]
    }
   ],
   "source": [
    "public class SimpleArrayListExample {\n",
    "    private static ArrayList<Integer> integerList = new ArrayList<>();\n",
    "\n",
    "    public static void addToArrayList(int number) {\n",
    "        integerList.add(number);\n",
    "    }\n",
    "\n",
    "    public static int getFromArrayList(int index) {\n",
    "        return integerList.get(index);\n",
    "    }\n",
    "\n",
    "    public static void main(String[] args) {\n",
    "        integerList.add(1);\n",
    "        integerList.add(2);\n",
    "        integerList.add(3);\n",
    "        integerList.add(4);\n",
    "        integerList.add(5);\n",
    "\n",
    "        Scanner scanner = new Scanner(System.in);\n",
    "\n",
    "        System.out.print(\"Enter a number to add to the ArrayList: \");\n",
    "        int userInput = scanner.nextInt();\n",
    "        addToArrayList(userInput);\n",
    "\n",
    "        System.out.print(\"Enter the index you want to access (0-\" + (integerList.size() - 1) + \"): \");\n",
    "        int indexToAccess = scanner.nextInt();\n",
    "\n",
    "        if (indexToAccess >= 0 && indexToAccess < integerList.size()) {\n",
    "            int valueAtIndex = getFromArrayList(indexToAccess);\n",
    "            System.out.println(\"Value at index \" + indexToAccess + \": \" + valueAtIndex);\n",
    "        } else {\n",
    "            System.out.println(\"Invalid index.\");\n",
    "        }\n",
    "    }\n",
    "}\n",
    "\n",
    "\n",
    "SimpleArrayListExample.main(null);\n",
    "\n"
   ]
  },
  {
   "cell_type": "markdown",
   "metadata": {},
   "source": [
    "## Hack 2:\n",
    "Create a simple guessing game with random numbers in math, except the random number is taken to a random exponent (also includes roots), and the person has to find out what the root and exponent is (with hints!). Use at least one static and one non-static method in your class."
   ]
  },
  {
   "cell_type": "code",
   "execution_count": 7,
   "metadata": {
    "vscode": {
     "languageId": "java"
    }
   },
   "outputs": [
    {
     "name": "stdout",
     "output_type": "stream",
     "text": [
      "I have taken a random number to a random exponent.\n",
      "Can you guess the base and the exponent?\n",
      "Guess the base: \n",
      "Guess the exponent: Hint: Base is too low.\n",
      "Hint: Exponent is too low.\n",
      "Guess the base: \n",
      "Guess the exponent: Hint: Base is too high.\n",
      "Hint: Exponent is too high.\n",
      "Guess the base: \n",
      "Guess the exponent: Hint: Base is too high.\n",
      "Hint: Exponent is too high.\n",
      "Guess the base: \n",
      "Guess the exponent: Hint: Base is too high.\n",
      "Hint: Exponent is too high.\n",
      "Guess the base: \n",
      "Guess the exponent: Hint: Base is too high.\n",
      "Hint: Exponent is too high.\n",
      "Guess the base: \n",
      "Guess the exponent: Hint: Base is too high.\n",
      "Hint: Exponent is too high.\n",
      "Guess the base: \n",
      "Guess the exponent: Hint: Base is too high.\n",
      "Hint: Exponent is too low.\n",
      "Guess the base: \n",
      "Guess the exponent: Hint: Base is too low.\n",
      "Hint: Exponent is too low.\n",
      "Guess the base: \n",
      "Guess the exponent: Hint: Base is too low.\n",
      "Hint: Exponent is too low.\n",
      "Guess the base: \n",
      "Guess the exponent: Hint: Base is too low.\n",
      "Hint: Exponent is too low.\n",
      "Guess the base: \n",
      "Guess the exponent: Congratulations! You guessed it!\n"
     ]
    }
   ],
   "source": [
    "public class MathGuessingGame {\n",
    "\n",
    "    private static Random random = new Random();\n",
    "\n",
    "    private static double generateRandomNumber() {\n",
    "        return random.nextInt(5) + 1;\n",
    "    }\n",
    "\n",
    "    private static int generateRandomExponent() {\n",
    "        return random.nextInt(4) + 2;\n",
    "    }\n",
    "\n",
    "    public static void main(String[] args) {\n",
    "        double base = generateRandomNumber();\n",
    "        int exponent = generateRandomExponent();\n",
    "\n",
    "        double result = Math.pow(base, exponent);\n",
    "\n",
    "        System.out.println(\"I have taken a random number to a random exponent.\");\n",
    "        System.out.println(\"Can you guess the base and the exponent?\");\n",
    "\n",
    "        Scanner scanner = new Scanner(System.in);\n",
    "\n",
    "        int guessBase;\n",
    "        int guessExponent;\n",
    "\n",
    "        do {\n",
    "            System.out.print(\"Guess the base: \\n\");\n",
    "            guessBase = scanner.nextInt();\n",
    "\n",
    "            System.out.print(\"Guess the exponent: \\n\");\n",
    "            guessExponent = scanner.nextInt();\n",
    "\n",
    "            if (guessBase == base && guessExponent == exponent) {\n",
    "                System.out.println(\"Congratulations! You guessed it!\");\n",
    "            } else {\n",
    "                if (guessBase > base) {\n",
    "                    System.out.println(\"Hint: Base is too high. \\n\");\n",
    "                } else {\n",
    "                    System.out.println(\"Hint: Base is too low. \\n\");\n",
    "                }\n",
    "\n",
    "                if (guessExponent > exponent) {\n",
    "                    System.out.println(\"Hint: Exponent is too high. \\n\");\n",
    "                } else {\n",
    "                    System.out.println(\"Hint: Exponent is too low. \\n\");\n",
    "                }\n",
    "            }\n",
    "        } while (guessBase != base || guessExponent != exponent);\n",
    "\n",
    "        scanner.close();\n",
    "    }\n",
    "}\n",
    "\n",
    "MathGuessingGame.main(null);\n",
    "\n",
    "// I thought about using doubles instead of integers but I knew this would make the game impossible to play\n",
    "// I could improve this code by including error handling (not allowing non-numeric characters) displaying what your previous guess was so you don't guess it again, and I could also add a scoring system which tracks the number of guesses"
   ]
  },
  {
   "cell_type": "markdown",
   "metadata": {},
   "source": [
    "## Hack 3:\n",
    "Create a class of your choosing that has multiple parameters of different types (int, boolean, String, double) and put 5 data values in that list. Show that you can access the information by giving some samples."
   ]
  },
  {
   "cell_type": "code",
   "execution_count": 3,
   "metadata": {
    "vscode": {
     "languageId": "java"
    }
   },
   "outputs": [
    {
     "name": "stdout",
     "output_type": "stream",
     "text": [
      "Object 1:\n",
      "Int Value: 10\n",
      "Boolean Value: true\n",
      "String Value: Hello\n",
      "Double Value: 3.14\n"
     ]
    }
   ],
   "source": [
    "public class MyClass {\n",
    "    private int intValue;\n",
    "    private boolean boolValue;\n",
    "    private String stringValue;\n",
    "    private double doubleValue;\n",
    "\n",
    "    public MyClass(int intValue, boolean boolValue, String stringValue, double doubleValue) {\n",
    "        this.intValue = intValue;\n",
    "        this.boolValue = boolValue;\n",
    "        this.stringValue = stringValue;\n",
    "        this.doubleValue = doubleValue;\n",
    "    }\n",
    "\n",
    "    public int getIntValue() {\n",
    "        return intValue;\n",
    "    }\n",
    "\n",
    "    public boolean getBoolValue() {\n",
    "        return boolValue;\n",
    "    }\n",
    "\n",
    "    public String getStringValue() {\n",
    "        return stringValue;\n",
    "    }\n",
    "\n",
    "    public double getDoubleValue() {\n",
    "        return doubleValue;\n",
    "    }\n",
    "\n",
    "    public static void main(String[] args) {\n",
    "        MyClass obj1 = new MyClass(10, true, \"Hello\", 3.14);\n",
    "        MyClass obj2 = new MyClass(20, false, \"World\", 2.71);\n",
    "        MyClass obj3 = new MyClass(30, true, \"OpenAI\", 1.618);\n",
    "        MyClass obj4 = new MyClass(40, false, \"GPT-3.5\", 0.577);\n",
    "        MyClass obj5 = new MyClass(50, true, \"Java\", 2.718);\n",
    "\n",
    "        // Accessing the information\n",
    "        System.out.println(\"Object 1:\");\n",
    "        System.out.println(\"Int Value: \" + obj1.getIntValue());\n",
    "        System.out.println(\"Boolean Value: \" + obj1.getBoolValue());\n",
    "        System.out.println(\"String Value: \" + obj1.getStringValue());\n",
    "        System.out.println(\"Double Value: \" + obj1.getDoubleValue());\n",
    "        \n",
    "        // Repeat the above lines for obj2, obj3, obj4, and obj5 to access their information.\n",
    "    }\n",
    "}\n",
    "\n",
    "\n",
    "MyClass.main(null);"
   ]
  },
  {
   "cell_type": "markdown",
   "metadata": {},
   "source": [
    "## Hack 4:\n",
    "Using your preliminary knowledge of loops, use a for loop to iterate through a person’s first and last name, separated by a space, and create methods to call a person’s first name and a person’s last name by iterating through the string."
   ]
  },
  {
   "cell_type": "code",
   "execution_count": 4,
   "metadata": {
    "vscode": {
     "languageId": "java"
    }
   },
   "outputs": [
    {
     "name": "stdout",
     "output_type": "stream",
     "text": [
      "First Name: John\n",
      "Last Name: Doe\n"
     ]
    }
   ],
   "source": [
    "public class NameIterator {\n",
    "    private String fullName;\n",
    "\n",
    "    public NameIterator(String fullName) {\n",
    "        this.fullName = fullName;\n",
    "    }\n",
    "\n",
    "    public String getFirstName() {\n",
    "        int spaceIndex = fullName.indexOf(\" \");\n",
    "        return fullName.substring(0, spaceIndex);\n",
    "    }\n",
    "\n",
    "    public String getLastName() {\n",
    "        int spaceIndex = fullName.indexOf(\" \");\n",
    "        return fullName.substring(spaceIndex + 1);\n",
    "    }\n",
    "\n",
    "    public static void main(String[] args) {\n",
    "        NameIterator nameIterator = new NameIterator(\"John Doe\");\n",
    "\n",
    "        System.out.println(\"First Name: \" + nameIterator.getFirstName());\n",
    "        System.out.println(\"Last Name: \" + nameIterator.getLastName());\n",
    "    }\n",
    "}\n",
    "\n",
    "\n",
    "NameIterator.main(null);"
   ]
  }
 ],
 "metadata": {
  "kernelspec": {
   "display_name": "Java",
   "language": "java",
   "name": "java"
  },
  "language_info": {
   "codemirror_mode": "java",
   "file_extension": ".jshell",
   "mimetype": "text/x-java-source",
   "name": "Java",
   "pygments_lexer": "java",
   "version": "11.0.20+8-post-Ubuntu-1ubuntu120.04"
  },
  "orig_nbformat": 4
 },
 "nbformat": 4,
 "nbformat_minor": 2
}
