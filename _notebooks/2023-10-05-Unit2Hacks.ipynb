{
 "cells": [
  {
   "cell_type": "markdown",
   "metadata": {},
   "source": [
    "---\n",
    "toc: true\n",
    "comments: true\n",
    "layout: post\n",
    "title: Unit 2 Hacks\n",
    "description: My answer to the Unit 2 hacks\n",
    "type: hacks\n",
    "courses: {csa: {week: 5}}\n",
    "---"
   ]
  },
  {
   "cell_type": "markdown",
   "metadata": {},
   "source": [
    "# Here is the list of the unit 2 hacks.\n",
    "\n",
    "Note: This is due Monday! Write your hacks in a Jupyter Notebook and then DM them to us over slack by Monday Morning at 8:00 AM. For full credit, all criteria in the hacks must be completed and show some originality.\n",
    "\n",
    "## Hack 1:\n",
    "Create a void method that takes an integer input and adds it to an ArrayList. Then, add a non-void method that is able to call a certain index from the ArrayList."
   ]
  },
  {
   "cell_type": "code",
   "execution_count": 5,
   "metadata": {
    "vscode": {
     "languageId": "java"
    }
   },
   "outputs": [
    {
     "name": "stdout",
     "output_type": "stream",
     "text": [
      "Enter a number to add to the ArrayList: Enter the index you want to access (0-5): Value at index 2: 3\n"
     ]
    }
   ],
   "source": [
    "public class SimpleArrayListExample {\n",
    "    private static ArrayList<Integer> integerList = new ArrayList<>();\n",
    "\n",
    "    public static void addToArrayList(int number) {\n",
    "        integerList.add(number);\n",
    "    }\n",
    "\n",
    "    public static int getFromArrayList(int index) {\n",
    "        return integerList.get(index);\n",
    "    }\n",
    "\n",
    "    public static void main(String[] args) {\n",
    "        integerList.add(1);\n",
    "        integerList.add(2);\n",
    "        integerList.add(3);\n",
    "        integerList.add(4);\n",
    "        integerList.add(5);\n",
    "\n",
    "        Scanner scanner = new Scanner(System.in);\n",
    "\n",
    "        System.out.print(\"Enter a number to add to the ArrayList: \");\n",
    "        int userInput = scanner.nextInt();\n",
    "        addToArrayList(userInput);\n",
    "\n",
    "        System.out.print(\"Enter the index you want to access (0-\" + (integerList.size() - 1) + \"): \");\n",
    "        int indexToAccess = scanner.nextInt();\n",
    "\n",
    "        if (indexToAccess >= 0 && indexToAccess < integerList.size()) {\n",
    "            int valueAtIndex = getFromArrayList(indexToAccess);\n",
    "            System.out.println(\"Value at index \" + indexToAccess + \": \" + valueAtIndex);\n",
    "        } else {\n",
    "            System.out.println(\"Invalid index.\");\n",
    "        }\n",
    "    }\n",
    "}\n",
    "\n",
    "\n",
    "SimpleArrayListExample.main(null);\n",
    "\n",
    "// User adds a number to an existing ArrayList and then selects an index from ArrayList to print.\n",
    "\n",
    "// Potential Improvements:\n",
    "// Input Validation: Add checks to ensure that the user input is a valid integer.\n",
    "// Error Handling: Consider adding try-catch blocks to handle potential exceptions (e.g., if the user inputs a non-integer).\n",
    "// Modularization: Depending on the complexity of the application, consider breaking down the code into smaller, more modular functions.\n",
    "// User Feedback: Provide more informative messages for the user, especially in case of errors.\n",
    "// Exception Handling: Handle possible exceptions that may occur when working with user input, such as InputMismatchException."
   ]
  },
  {
   "cell_type": "markdown",
   "metadata": {},
   "source": [
    "## Hack 2:\n",
    "Create a simple guessing game with random numbers in math, except the random number is taken to a random exponent (also includes roots), and the person has to find out what the root and exponent is (with hints!). Use at least one static and one non-static method in your class."
   ]
  },
  {
   "cell_type": "code",
   "execution_count": 6,
   "metadata": {
    "vscode": {
     "languageId": "java"
    }
   },
   "outputs": [
    {
     "name": "stdout",
     "output_type": "stream",
     "text": [
      "I have taken a random number to a random exponent.\n",
      "Can you guess the base and the exponent?\n",
      "Guess the base: \n"
     ]
    },
    {
     "name": "stdout",
     "output_type": "stream",
     "text": [
      "Guess the exponent: \n",
      "Hint: Base is too low. \n",
      "\n",
      "Hint: Exponent is too low. \n",
      "\n",
      "Guess the base: \n",
      "Guess the exponent: \n",
      "Hint: Base is too low. \n",
      "\n",
      "Hint: Exponent is too low. \n",
      "\n",
      "Guess the base: \n",
      "Guess the exponent: \n",
      "Hint: Base is too low. \n",
      "\n",
      "Hint: Exponent is too low. \n",
      "\n",
      "Guess the base: \n",
      "Guess the exponent: \n",
      "Congratulations! You guessed it!\n"
     ]
    }
   ],
   "source": [
    "public class MathGuessingGame {\n",
    "\n",
    "    private static Random random = new Random();\n",
    "\n",
    "    private static double generateRandomNumber() {\n",
    "        return random.nextInt(5) + 1;\n",
    "    }\n",
    "\n",
    "    private static int generateRandomExponent() {\n",
    "        return random.nextInt(4) + 2;\n",
    "    }\n",
    "\n",
    "    public static void main(String[] args) {\n",
    "        double base = generateRandomNumber();\n",
    "        int exponent = generateRandomExponent();\n",
    "\n",
    "        double result = Math.pow(base, exponent);\n",
    "\n",
    "        System.out.println(\"I have taken a random number to a random exponent.\");\n",
    "        System.out.println(\"Can you guess the base and the exponent?\");\n",
    "\n",
    "        Scanner scanner = new Scanner(System.in);\n",
    "\n",
    "        int guessBase;\n",
    "        int guessExponent;\n",
    "\n",
    "        do {\n",
    "            System.out.print(\"Guess the base: \\n\");\n",
    "            guessBase = scanner.nextInt();\n",
    "\n",
    "            System.out.print(\"Guess the exponent: \\n\");\n",
    "            guessExponent = scanner.nextInt();\n",
    "\n",
    "            if (guessBase == base && guessExponent == exponent) {\n",
    "                System.out.println(\"Congratulations! You guessed it!\");\n",
    "            } else {\n",
    "                if (guessBase > base) {\n",
    "                    System.out.println(\"Hint: Base is too high. \\n\");\n",
    "                } else {\n",
    "                    System.out.println(\"Hint: Base is too low. \\n\");\n",
    "                }\n",
    "\n",
    "                if (guessExponent > exponent) {\n",
    "                    System.out.println(\"Hint: Exponent is too high. \\n\");\n",
    "                } else {\n",
    "                    System.out.println(\"Hint: Exponent is too low. \\n\");\n",
    "                }\n",
    "            }\n",
    "        } while (guessBase != base || guessExponent != exponent);\n",
    "\n",
    "        scanner.close();\n",
    "    }\n",
    "}\n",
    "\n",
    "MathGuessingGame.main(null);\n",
    "\n",
    "// Generates a random base and exponent, calculates the result, and asks the user for their guesses.\n",
    "// If the guesses are correct, a congratulatory message is displayed. Otherwise, hints are given to help the user refine their guesses.\n",
    "\n",
    "// Possible improvements:\n",
    "// Add input validation to handle non-integer inputs or out-of-range guesses.\n",
    "// Implement a limit on the number of guesses allowed to prevent an infinite loop.\n",
    "// Add a scoring system or timer to make the game more competitive.\n",
    "// Provide more detailed feedback, such as how close the guesses are to the actual values.\n",
    "// Implement a user-friendly interface for better user experience.\n",
    "// Consider adding a difficulty level or option for the user to choose the range of numbers. \n",
    "// Handle potential exceptions (e.g., if the user enters a non-integer value).\n",
    "// Add comments to explain the purpose of each method for better code readability and maintainability.\n",
    "\n",
    "// I thought about using doubles instead of integers but I knew this would make the game impossible to play\n",
    "// I could improve this code by including error handling (not allowing non-numeric characters) displaying what your previous guess was so you don't guess it again, and I could also add a scoring system which tracks the number of guesses"
   ]
  },
  {
   "cell_type": "markdown",
   "metadata": {},
   "source": [
    "## Hack 3:\n",
    "Create a class of your choosing that has multiple parameters of different types (int, boolean, String, double) and put 5 data values in that list. Show that you can access the information by giving some samples."
   ]
  },
  {
   "cell_type": "code",
   "execution_count": 7,
   "metadata": {
    "vscode": {
     "languageId": "java"
    }
   },
   "outputs": [
    {
     "name": "stdout",
     "output_type": "stream",
     "text": [
      "Object 1:\n",
      "Int Value: 10\n",
      "\n",
      "\n",
      "Object 2:\n",
      "Boolean Value: false\n",
      "\n",
      "\n",
      "Object 3:\n",
      "String Value: Soham\n",
      "\n",
      "\n",
      "Object 4:\n",
      "Double Value: 0.577\n",
      "\n",
      "\n",
      "Object 5:\n",
      "Int Value: 50\n",
      "Boolean Value: true\n",
      "String Value: Here\n",
      "Double Value: 2.718\n"
     ]
    }
   ],
   "source": [
    "public class MyClass {\n",
    "    private int intValue;\n",
    "    private boolean boolValue;\n",
    "    private String stringValue;\n",
    "    private double doubleValue;\n",
    "\n",
    "    public MyClass(int intValue, boolean boolValue, String stringValue, double doubleValue) {\n",
    "        this.intValue = intValue;\n",
    "        this.boolValue = boolValue;\n",
    "        this.stringValue = stringValue;\n",
    "        this.doubleValue = doubleValue;\n",
    "    }\n",
    "\n",
    "    public int getIntValue() {\n",
    "        return intValue;\n",
    "    }\n",
    "\n",
    "    public boolean getBoolValue() {\n",
    "        return boolValue;\n",
    "    }\n",
    "\n",
    "    public String getStringValue() {\n",
    "        return stringValue;\n",
    "    }\n",
    "\n",
    "    public double getDoubleValue() {\n",
    "        return doubleValue;\n",
    "    }\n",
    "\n",
    "    public static void main(String[] args) {\n",
    "        MyClass obj1 = new MyClass(10, true, \"Hello\", 3.14);\n",
    "        MyClass obj2 = new MyClass(20, false, \"World\", 2.71);\n",
    "        MyClass obj3 = new MyClass(30, true, \"Soham\", 1.618);\n",
    "        MyClass obj4 = new MyClass(40, false, \"Was\", 0.577);\n",
    "        MyClass obj5 = new MyClass(50, true, \"Here\", 2.718);\n",
    "\n",
    "        System.out.println(\"Object 1:\");\n",
    "        System.out.println(\"Int Value: \" + obj1.getIntValue());\n",
    "        System.out.println(\"\\n\");\n",
    "\n",
    "        System.out.println(\"Object 2:\");\n",
    "        System.out.println(\"Boolean Value: \" + obj2.getBoolValue());\n",
    "        System.out.println(\"\\n\");\n",
    "\n",
    "        System.out.println(\"Object 3:\");\n",
    "        System.out.println(\"String Value: \" + obj3.getStringValue());\n",
    "        System.out.println(\"\\n\");\n",
    "\n",
    "        System.out.println(\"Object 4:\");\n",
    "        System.out.println(\"Double Value: \" + obj4.getDoubleValue());\n",
    "        System.out.println(\"\\n\");\n",
    "\n",
    "        System.out.println(\"Object 5:\");\n",
    "        System.out.println(\"Int Value: \" + obj5.getIntValue());\n",
    "        System.out.println(\"Boolean Value: \" + obj5.getBoolValue());\n",
    "        System.out.println(\"String Value: \" + obj5.getStringValue());\n",
    "        System.out.println(\"Double Value: \" + obj5.getDoubleValue());\n",
    "    }\n",
    "}\n",
    "\n",
    "\n",
    "MyClass.main(null);\n",
    "\n",
    "\n",
    "// Create five objects of MyClass and access their information using the getter methods.\n",
    "\n",
    "// Potential improvements:\n",
    "// Encapsulation: Consider adding setter methods if you want to allow external code to modify the values of the fields after the object is created.\n",
    "// Error handling: Add appropriate error handling mechanisms, such as input validation or exception handling, especially when dealing with user input or external data.\n",
    "// Modularity: Depending on the context, it might be beneficial to organize the code into multiple classes to improve code readability and maintainability.\n",
    "// Testing: Consider writing unit tests to ensure the correctness of the MyClass class and its methods.\n",
    "// Documentation: Add comments to the code to explain complex logic or any non-trivial behavior\n",
    "// Naming Conventions: Ensure that class names, field names, and method names follow appropriate naming conventions to make the code more readable and understandable.\n"
   ]
  },
  {
   "cell_type": "markdown",
   "metadata": {},
   "source": [
    "## Hack 4:\n",
    "Using your preliminary knowledge of loops, use a for loop to iterate through a person’s first and last name, separated by a space, and create methods to call a person’s first name and a person’s last name by iterating through the string."
   ]
  },
  {
   "cell_type": "code",
   "execution_count": 15,
   "metadata": {
    "vscode": {
     "languageId": "java"
    }
   },
   "outputs": [
    {
     "name": "stdout",
     "output_type": "stream",
     "text": [
      "First Name: John\n",
      "Last Name: Mortensen\n"
     ]
    },
    {
     "name": "stdout",
     "output_type": "stream",
     "text": [
      "Emojis: 🐐🐐🐐🐐\n"
     ]
    }
   ],
   "source": [
    "public class NameIterator {\n",
    "    private String fullName;\n",
    "\n",
    "    public NameIterator(String fullName) {\n",
    "        this.fullName = fullName;\n",
    "    }\n",
    "\n",
    "    public String getFirstName() {\n",
    "        int spaceIndex = fullName.indexOf(\" \");\n",
    "        return fullName.substring(0, spaceIndex);\n",
    "    }\n",
    "\n",
    "    public String getLastName() {\n",
    "        int spaceIndex = fullName.indexOf(\" \");\n",
    "        return fullName.substring(spaceIndex + 1, fullName.lastIndexOf(\" \"));\n",
    "    }\n",
    "\n",
    "    public String getEmojis() {\n",
    "        return fullName.substring(fullName.lastIndexOf(\" \") + 1);\n",
    "    }\n",
    "\n",
    "    public static void main(String[] args) {\n",
    "        NameIterator nameIterator = new NameIterator(\"John Mortensen 🐐🐐🐐🐐\");\n",
    "\n",
    "        System.out.println(\"First Name: \" + nameIterator.getFirstName());\n",
    "        System.out.println(\"Last Name: \" + nameIterator.getLastName());\n",
    "        System.out.println(\"Emojis: \" + nameIterator.getEmojis());\n",
    "    }\n",
    "}\n",
    "\n",
    "\n",
    "NameIterator.main(null);\n",
    "\n",
    "// Defines a PersonName class with methods to extract the first and last names from a full name string. It uses a for loop to iterate through the characters, identifying the space that separates the two names, and returns them accordingly.\n",
    "\n",
    "// Possible improvements:\n",
    "// Error handling: The code assumes that the input will always contain a space between the first and last names. Error handling could be added to handle cases where the input format is different.\n",
    "// Input validation: Additional validation can be added to ensure that the input is not null or empty.\n",
    "// Case handling: The code does not handle cases where the first and last names have leading/trailing spaces or where the names are in mixed case. These aspects could be considered for improvement."
   ]
  }
 ],
 "metadata": {
  "kernelspec": {
   "display_name": "Java",
   "language": "java",
   "name": "java"
  },
  "language_info": {
   "codemirror_mode": "java",
   "file_extension": ".jshell",
   "mimetype": "text/x-java-source",
   "name": "Java",
   "pygments_lexer": "java",
   "version": "11.0.20+8-post-Ubuntu-1ubuntu120.04"
  },
  "orig_nbformat": 4
 },
 "nbformat": 4,
 "nbformat_minor": 2
}
