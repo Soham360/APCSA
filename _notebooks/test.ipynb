{
 "cells": [
  {
   "cell_type": "code",
   "execution_count": 158,
   "metadata": {},
   "outputs": [],
   "source": [
    "public static String scrambleWord(String word) {\n",
    "    String newWord = \"\";\n",
    "    int counter = 0;\n",
    "    \n",
    "    for (counter = 0; counter < word.length() - 1; counter ++) {\n",
    "        if (word.substring(counter, counter + 1).equals(\"A\") && !(word.substring(counter + 1, counter + 2).equals(\"A\"))) {\n",
    "            newWord += word.substring(counter + 1, counter + 2);\n",
    "            newWord +=  word.substring(counter, counter + 1);\n",
    "            counter ++;\n",
    "        } else {\n",
    "            newWord += word.substring(counter, counter + 1);\n",
    "        }\n",
    "    }\n",
    "\n",
    "    if (counter < word.length()) {\n",
    "        newWord += word.substring(counter);\n",
    "    }\n",
    "\n",
    "    return newWord;\n",
    "}\n",
    "\n",
    "// scrambleWord(\"TAN\");\n",
    "// scrambleWord(\"ABRACADABRA\");\n",
    "// scrambleWord(\"WHOA\");\n",
    "// scrambleWord(\"AARDVARK\");\n",
    "// scrambleWord(\"EGGS\");\n",
    "// scrambleWord(\"A\");\n",
    "// scrambleWord(\"\");"
   ]
  },
  {
   "cell_type": "code",
   "execution_count": 159,
   "metadata": {},
   "outputs": [],
   "source": [
    "List<String> words = new ArrayList<>();\n",
    "\n",
    "words.add(\"TAN\");\n",
    "words.add(\"ABRACADABRA\");\n",
    "words.add(\"WHOA\");\n",
    "words.add(\"AARDVARK\");\n",
    "words.add(\"EGGS\");\n",
    "words.add(\"A\");\n",
    "\n",
    "public static void scrambleOrRemove1(List<String> wordList) {\n",
    "    \n",
    "    int index = 0;\n",
    "    \n",
    "    for (index = 0; index < words.size() - 1;) {\n",
    "        if (wordList.get(index).equals(scrambleWord(wordList.get(index)))) {\n",
    "            wordList.remove(index);\n",
    "        \n",
    "        } else {\n",
    "            wordList.set(index, scrambleWord(wordList.get(index)));\n",
    "            index ++;\n",
    "        }\n",
    "    }\n",
    "}\n",
    "\n",
    "scrambleOrRemove(words);\n",
    "// System.out.print(words);"
   ]
  },
  {
   "cell_type": "code",
   "execution_count": 160,
   "metadata": {},
   "outputs": [],
   "source": [
    "// 2014 Practice Exam FRQ 1\n",
    "\n",
    "public class WordScrambler {\n",
    "    \n",
    "    private String[] scrambledWords;\n",
    "\n",
    "    public WordScrambler(String[] wordArr) {\n",
    "        scrambledWords = mixedWords(wordArr);\n",
    "    }\n",
    "\n",
    "    private String recombine(String word1, String word2) { // part a\n",
    "        String newWord = \"\";\n",
    "        int len1 = word1.length() / 2;\n",
    "        int len2 = word2.length() / 2;\n",
    "        newWord += word1.substring(0, len1);\n",
    "        newWord += word2.substring(len2, word2.length());\n",
    "        return newWord;\n",
    "    }\n",
    "\n",
    "    private String[] mixedWords(String[] words) { // part b\n",
    "        String[] mixedArr = new String[words.length];\n",
    "        int wordNum = 0;\n",
    "        for (wordNum = 0; wordNum < words.length; wordNum += 2) {\n",
    "            mixedArr[wordNum] = recombine(words[wordNum], words[wordNum + 1]);\n",
    "            mixedArr[wordNum + 1] = recombine(words[wordNum + 1], words[wordNum]);\n",
    "        }\n",
    "        return mixedArr;\n",
    "    }\n",
    "}"
   ]
  },
  {
   "cell_type": "code",
   "execution_count": null,
   "metadata": {},
   "outputs": [],
   "source": [
    "// 2014 Practice Exam FRQ 2\n",
    "\n",
    "public class Mountain {\n",
    "\n",
    "    public static boolean isIncreasing(int[] array, int stop) {\n",
    "\n",
    "    }\n",
    "\n",
    "    public static boolean isDecreasing(int[] array, int start) {\n",
    "\n",
    "    }\n",
    "\n",
    "    public static int getPeakIndex(int[] array) { // part a\n",
    "        for (int k = 1; k < array.length - 1; k ++) {\n",
    "            if ((array[k] > array[k - 1]) && (array[k] > array[k + 1])) {\n",
    "                return k;\n",
    "            }\n",
    "        }\n",
    "        return -1;\n",
    "    }\n",
    "\n",
    "    public static boolean isMountain(int[] array) { // part b\n",
    "        if ((getPeakIndex(array) != -1) && (isIncreasing(array, getPeakIndex(array)) == true) && (isDecreasing(array, getPeakIndex(array)) == true)) {\n",
    "            return true;\n",
    "        }\n",
    "        return false;\n",
    "    }\n",
    "}"
   ]
  },
  {
   "cell_type": "code",
   "execution_count": 165,
   "metadata": {},
   "outputs": [],
   "source": [
    "// 2014 Practice Exam FRQ 3\n",
    "\n",
    "public class TemperatureGrid {\n",
    "    private double[][] temps;\n",
    "\n",
    "    private double computeTemp(int row, int col) { // part a\n",
    "        if ((row == 0) || (row == temps.length - 1) || (col == 0) || (row == temps[0].length - 1)) {\n",
    "            return temps[row][col];\n",
    "        }\n",
    "        double average = ((temps[row + 1][col]) + (temps[row][col + 1]) + (temps[row - 1][col]) + (temps[row][col - 1])) / 4;\n",
    "        return average;\n",
    "    }\n",
    "\n",
    "    public boolean updateAllTemps(double tolerance) { // part b\n",
    "    \n",
    "        double[][] newTemps = new double[temps.length][temps[0].length];\n",
    "        for (int rowNum = 0; rowNum < temps.length; rowNum ++) {\n",
    "            for (int colNum = 0; colNum < temps[0].length; colNum ++) {\n",
    "                newTemps[rowNum][colNum] = computeTemp(rowNum, colNum);\n",
    "                if (((newTemps[rowNum][colNum] - computeTemp(rowNum, colNum)) > tolerance) || ((computeTemp(rowNum, colNum) - newTemps[rowNum][colNum]) > tolerance)) {\n",
    "                    return false;\n",
    "                }\n",
    "            }\n",
    "        }\n",
    "        temps = newTemps;\n",
    "        return true;\n",
    "    }\n",
    "}"
   ]
  },
  {
   "cell_type": "code",
   "execution_count": 163,
   "metadata": {},
   "outputs": [],
   "source": [
    "// 2014 Practice Exam FRQ 4\n",
    "\n",
    "public class ScoreInfo {\n",
    "    private int score;\n",
    "    private int numStudents;\n",
    "\n",
    "    public ScoreInfo(int aScore) {\n",
    "        score = aScore;\n",
    "        numStudents = 1;\n",
    "    }\n",
    "\n",
    "    public void increment() {\n",
    "        numStudents++;\n",
    "    }\n",
    "\n",
    "    public int getScore() {\n",
    "        return score;\n",
    "    }\n",
    "\n",
    "    public int getFrequency() {\n",
    "        return numStudents;\n",
    "    }\n",
    "}\n",
    "\n",
    "public class Stats {\n",
    "    private ArrayList<ScoreInfo> scoreList;\n",
    "\n",
    "    public boolean record(int score) { // part a\n",
    "        for (int s = 0; s < scoreList.size(); s ++) {\n",
    "            if (score < scoreList.get(s).getScore()) {\n",
    "                scoreList.add(s, new ScoreInfo(score));\n",
    "                return true;\n",
    "            } else if (score == scoreList.get(s).getScore()) {\n",
    "                scoreList.get(s).increment();\n",
    "                return false;\n",
    "            }\n",
    "        }\n",
    "        scoreList.add(new ScoreInfo(score));\n",
    "        return true;\n",
    "    }\n",
    "\n",
    "    public void recordScores(int[] stuScores) { // part b\n",
    "        for (int score : stuScores) {\n",
    "            record(score);\n",
    "        }\n",
    "    }\n",
    "}"
   ]
  },
  {
   "cell_type": "code",
   "execution_count": 1,
   "metadata": {},
   "outputs": [
    {
     "name": "stdout",
     "output_type": "stream",
     "text": [
      "70\n"
     ]
    }
   ],
   "source": [
    "public int calculate(int a, int b)\n",
    "{\n",
    "    a = a - 0; // a = 9\n",
    "    int c = b; // c = 2\n",
    "    b = a * a; // b = 81\n",
    "    a = b - (a + c); // a = 81 - (9 + 2) = 81 - 11 = 70\n",
    "    return a; // 70\n",
    "}\n",
    "\n",
    "int var = 9;\n",
    "int count = 2;\n",
    "System.out.println(calculate(var, count));"
   ]
  },
  {
   "cell_type": "code",
   "execution_count": 96,
   "metadata": {},
   "outputs": [
    {
     "name": "stdout",
     "output_type": "stream",
     "text": [
      "16"
     ]
    }
   ],
   "source": [
    "System.out.print((int)(Math.random() * 15) + 13);"
   ]
  },
  {
   "cell_type": "code",
   "execution_count": 99,
   "metadata": {},
   "outputs": [
    {
     "name": "stdout",
     "output_type": "stream",
     "text": [
      "0"
     ]
    }
   ],
   "source": [
    "System.out.print(0%19990);"
   ]
  },
  {
   "cell_type": "code",
   "execution_count": 4,
   "metadata": {},
   "outputs": [
    {
     "name": "stdout",
     "output_type": "stream",
     "text": [
      "1\n"
     ]
    },
    {
     "name": "stdout",
     "output_type": "stream",
     "text": [
      "ttool\n",
      "boottool\n",
      "1"
     ]
    }
   ],
   "source": [
    "String word = \"boottool\";\n",
    "\n",
    "int p = word.indexOf(\"oo\");\n",
    "System.out.println(word.indexOf(\"oo\")); // returns 1\n",
    "\n",
    "word.substring(p + 2);\n",
    "System.out.println(word.substring(p + 2)); // returns ttool\n",
    "System.out.println(word);\n",
    "\n",
    "p = word.indexOf(\"oo\");\n",
    "System.out.print(p); // returns 1"
   ]
  },
  {
   "cell_type": "code",
   "execution_count": 2,
   "metadata": {},
   "outputs": [
    {
     "name": "stdout",
     "output_type": "stream",
     "text": [
      "[French]\n",
      "[French, History]\n",
      "[French, English]\n",
      "[French, English, Art]\n",
      "[French, Art]\n"
     ]
    },
    {
     "ename": "EvalException",
     "evalue": "Index 2 out of bounds for length 2",
     "output_type": "error",
     "traceback": [
      "\u001b[1m\u001b[31m---------------------------------------------------------------------------\u001b[0m",
      "\u001b[1m\u001b[31mjava.lang.IndexOutOfBoundsException: Index 2 out of bounds for length 2\u001b[0m",
      "\u001b[1m\u001b[31m\tat java.base/jdk.internal.util.Preconditions.outOfBounds(Preconditions.java:100)\u001b[0m",
      "\u001b[1m\u001b[31m\tat java.base/jdk.internal.util.Preconditions.outOfBoundsCheckIndex(Preconditions.java:106)\u001b[0m",
      "\u001b[1m\u001b[31m\tat java.base/jdk.internal.util.Preconditions.checkIndex(Preconditions.java:302)\u001b[0m",
      "\u001b[1m\u001b[31m\tat java.base/java.util.Objects.checkIndex(Objects.java:385)\u001b[0m",
      "\u001b[1m\u001b[31m\tat java.base/java.util.ArrayList.set(ArrayList.java:441)\u001b[0m",
      "\u001b[1m\u001b[31m\tat .(#29:1)\u001b[0m"
     ]
    }
   ],
   "source": [
    "ArrayList<String> subjects = new ArrayList<String>();\n",
    "\n",
    "subjects.add(\"French\");\n",
    "System.out.println(subjects);\n",
    "subjects.add(\"History\");\n",
    "System.out.println(subjects);\n",
    "subjects.set(1, \"English\");\n",
    "System.out.println(subjects);\n",
    "subjects.add(\"Art\");\n",
    "System.out.println(subjects);\n",
    "subjects.remove(1);\n",
    "System.out.println(subjects);\n",
    "subjects.set(2, \"Math\");\n",
    "System.out.println(subjects);\n",
    "subjects.add(\"Biology\");\n",
    "System.out.println(subjects);"
   ]
  }
 ],
 "metadata": {
  "kernelspec": {
   "display_name": "Java",
   "language": "java",
   "name": "java"
  },
  "language_info": {
   "codemirror_mode": "java",
   "file_extension": ".jshell",
   "mimetype": "text/x-java-source",
   "name": "java",
   "pygments_lexer": "java",
   "version": "19.0.2+7-44"
  }
 },
 "nbformat": 4,
 "nbformat_minor": 2
}
