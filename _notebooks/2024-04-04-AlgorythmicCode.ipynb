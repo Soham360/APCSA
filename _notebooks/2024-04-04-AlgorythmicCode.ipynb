{
 "cells": [
  {
   "cell_type": "markdown",
   "metadata": {},
   "source": [
    "---\n",
    "title: Algorythmic Performance Code\n",
    "comments: true\n",
    "layout: post\n",
    "description: Algorythmic Performance Code\n",
    "courses: { csa: {week: 26} }\n",
    "---"
   ]
  },
  {
   "cell_type": "markdown",
   "metadata": {},
   "source": [
    "## Using Arrays to sort people by pool noodle size"
   ]
  },
  {
   "cell_type": "code",
   "execution_count": 87,
   "metadata": {
    "vscode": {
     "languageId": "java"
    }
   },
   "outputs": [
    {
     "name": "stdout",
     "output_type": "stream",
     "text": [
      "Before sorting:\n",
      "[Beach Volleyball Dude: 8, Sandcastle: 11, Click, Half Dolphin, Half Man: 10, M.A.T.I: 9, Scuba Diver: 1]\n",
      "\n",
      "After sorting:\n",
      "[Scuba Diver: 1, Beach Volleyball Dude: 8, M.A.T.I: 9, Click, Half Dolphin, Half Man: 10, Sandcastle: 11]\n"
     ]
    }
   ],
   "source": [
    "public class Person { \n",
    "    String name;\n",
    "    int noodleLength;\n",
    "\n",
    "    Person(String name, int noodleLength) {\n",
    "        this.name = name;\n",
    "        this.noodleLength = noodleLength;\n",
    "    }\n",
    "\n",
    "    @Override\n",
    "    public String toString() {\n",
    "        return name + \": \" + noodleLength;\n",
    "    }\n",
    "}\n",
    "\n",
    "public class BeachNoodleSorter {\n",
    "\n",
    "    public static void insertionSort(Person[] people) {\n",
    "        for (int i = 1; i < people.length; i++) {\n",
    "            Person key = people[i];\n",
    "            int j = i - 1;\n",
    "\n",
    "            // Move elements of people[0..i-1], that are greater than key.noodleLength,\n",
    "            // to one position ahead of their current position\n",
    "            while (j >= 0 && people[j].noodleLength > key.noodleLength) {\n",
    "                people[j + 1] = people[j];\n",
    "                j = j - 1;\n",
    "            }\n",
    "            people[j + 1] = key;\n",
    "        }\n",
    "    }\n",
    "\n",
    "    public static void main(String[] args) {\n",
    "        Person[] people = {\n",
    "            new Person(\"Beach Volleyball Dude\", 8),\n",
    "            new Person(\"Sandcastle\", 11),\n",
    "            new Person(\"Click, Half Dolphin, Half Man\", 10),\n",
    "            new Person(\"M.A.T.I\", 9),\n",
    "            new Person(\"Scuba Diver\", 1)\n",
    "        };\n",
    "\n",
    "        System.out.println(\"Before sorting:\");\n",
    "        System.out.println(Arrays.toString(people) + \"\\n\");\n",
    "\n",
    "        insertionSort(people);\n",
    "\n",
    "        System.out.println(\"After sorting:\");\n",
    "        System.out.println(Arrays.toString(people));\n",
    "    }\n",
    "}\n",
    "\n",
    "BeachNoodleSorter.main(null);"
   ]
  },
  {
   "cell_type": "markdown",
   "metadata": {},
   "source": [
    "## Using Linked Lists to sort people by pool noodle size"
   ]
  },
  {
   "cell_type": "code",
   "execution_count": 88,
   "metadata": {
    "vscode": {
     "languageId": "java"
    }
   },
   "outputs": [],
   "source": [
    "public abstract class Collectable implements Comparable<Collectable> {\n",
    "    public final String masterType = \"Collectable\";\n",
    "    private String type;\n",
    "\n",
    "    public interface KeyTypes {\n",
    "        String name();\n",
    "    }\n",
    "\n",
    "    protected abstract KeyTypes getKey();\n",
    "\n",
    "    public String getMasterType() {\n",
    "        return masterType;\n",
    "    }\n",
    "\n",
    "    public String getType() {\n",
    "        return type;\n",
    "    }\n",
    "\n",
    "    public void setType(String type) {\n",
    "        this.type = type;\n",
    "    }\n",
    "\n",
    "    public abstract String toString();\n",
    "\n",
    "    public int compareTo(Collectable obj) {\n",
    "        return this.toString().compareTo(obj.toString());\n",
    "    }\n",
    "\n",
    "    public static void print(Collectable[] objs) {\n",
    "        System.out.println(objs.getClass() + \" \" + objs.length);\n",
    "\n",
    "        if (objs.length > 0) {\n",
    "            Collectable obj = objs[0];\n",
    "            System.out.println(obj.getMasterType() + \": \" + obj.getType() + \" listed by \" + obj.getKey());\n",
    "        }\n",
    "\n",
    "        for (Object o : objs)\n",
    "            System.out.println(o);\n",
    "\n",
    "        System.out.println();\n",
    "    }\n",
    "}\n",
    "\n",
    "class People extends Collectable {\n",
    "    public static KeyTypes key = KeyType.name;\n",
    "    public static void setOrder(KeyTypes key) { People.key = key; }\n",
    "    public enum KeyType implements KeyTypes { name, noodleLength }\n",
    "\n",
    "    private final String name;\n",
    "    private final int noodleLength;\n",
    "\n",
    "    People(String name, int noodleLength) {\n",
    "        this.setType(\"People\");\n",
    "        this.name = name;\n",
    "        this.noodleLength = noodleLength;\n",
    "    }\n",
    "\n",
    "    @Override\n",
    "    protected KeyTypes getKey() {\n",
    "        return People.key;\n",
    "    }\n",
    "\n",
    "    @Override\n",
    "    public String toString() {\n",
    "        StringBuilder jsonBuilder = new StringBuilder();\n",
    "        jsonBuilder.append(\"{\");\n",
    "\n",
    "        if (KeyType.name.equals(this.getKey())) {\n",
    "            jsonBuilder.append(\"\\\"name\\\": \\\"\").append(this.name).append(\"\\\", \");\n",
    "        } else if (KeyType.noodleLength.equals(this.getKey())) {\n",
    "            jsonBuilder.append(\"\\\"noodleLength\\\": \").append(this.noodleLength).append(\", \");\n",
    "        }\n",
    "\n",
    "        jsonBuilder.append(\"\\\"type\\\": \\\"\").append(this.getType()).append(\"\\\", \")\n",
    "                .append(\"\\\"masterType\\\": \\\"\").append(this.masterType).append(\"\\\"\");\n",
    "\n",
    "        jsonBuilder.append(\"}\");\n",
    "        return jsonBuilder.toString();\n",
    "    }\n",
    "\n",
    "    // Bubble sort\n",
    "    public static void bubbleSort(List<Collectable> list) {\n",
    "        int n = list.size();\n",
    "        for (int i = 0; i < n - 1; i++) {\n",
    "            for (int j = 0; j < n - i - 1; j++) {\n",
    "                if (list.get(j).compareTo(list.get(j + 1)) > 0) {\n",
    "                    Collectable temp = list.get(j);\n",
    "                    list.set(j, list.get(j + 1));\n",
    "                    list.set(j + 1, temp);\n",
    "                }\n",
    "            }\n",
    "        }\n",
    "    }\n",
    "\n",
    "    // Selection sort\n",
    "    public static void selectionSort(List<Collectable> list) {\n",
    "        int n = list.size();\n",
    "        for (int i = 0; i < n - 1; i++) {\n",
    "            int minIndex = i;\n",
    "            for (int j = i + 1; j < n; j++) {\n",
    "                if (list.get(j).compareTo(list.get(minIndex)) < 0) {\n",
    "                    minIndex = j;\n",
    "                }\n",
    "            }\n",
    "            Collectable temp = list.get(minIndex);\n",
    "            list.set(minIndex, list.get(i));\n",
    "            list.set(i, temp);\n",
    "        }\n",
    "    }\n",
    "\n",
    "    // Insertion sort\n",
    "    public static void insertionSort(List<Collectable> list) {\n",
    "        int n = list.size();\n",
    "        for (int i = 1; i < n; ++i) {\n",
    "            Collectable key = list.get(i);\n",
    "            int j = i - 1;\n",
    "            while (j >= 0 && list.get(j).compareTo(key) > 0) {\n",
    "                list.set(j + 1, list.get(j));\n",
    "                j = j - 1;\n",
    "            }\n",
    "            list.set(j + 1, key);\n",
    "        }\n",
    "    }\n",
    "\n",
    "    // Merge sort\n",
    "    public static void mergeSort(List<Collectable> list) {\n",
    "        if (list.size() > 1) {\n",
    "            int mid = list.size() / 2;\n",
    "            List<Collectable> left = new java.util.LinkedList<>(list.subList(0, mid));\n",
    "            List<Collectable> right = new java.util.LinkedList<>(list.subList(mid, list.size()));\n",
    "\n",
    "            mergeSort(left);\n",
    "            mergeSort(right);\n",
    "\n",
    "            merge(list, left, right);\n",
    "        }\n",
    "    }\n",
    "\n",
    "    private static void merge(List<Collectable> list, List<Collectable> left, List<Collectable> right) {\n",
    "        int i = 0, j = 0, k = 0;\n",
    "        while (i < left.size() && j < right.size()) {\n",
    "            if (left.get(i).compareTo(right.get(j)) <= 0) {\n",
    "                list.set(k++, left.get(i++));\n",
    "            } else {\n",
    "                list.set(k++, right.get(j++));\n",
    "            }\n",
    "        }\n",
    "        while (i < left.size()) {\n",
    "            list.set(k++, left.get(i++));\n",
    "        }\n",
    "        while (j < right.size()) {\n",
    "            list.set(k++, right.get(j++));\n",
    "        }\n",
    "    }\n",
    "\n",
    "    // Quick sort\n",
    "    public static void quickSort(List<Collectable> list, int low, int high) {\n",
    "        if (low < high) {\n",
    "            int pi = partition(list, low, high);\n",
    "            quickSort(list, low, pi - 1);\n",
    "            quickSort(list, pi + 1, high);\n",
    "        }\n",
    "    }\n",
    "\n",
    "    private static int partition(List<Collectable> list, int low, int high) {\n",
    "        Collectable pivot = list.get(high);\n",
    "        int i = (low - 1);\n",
    "        for (int j = low; j < high; j++) {\n",
    "            if (list.get(j).compareTo(pivot) < 0) {\n",
    "                i++;\n",
    "                Collectable temp = list.get(i);\n",
    "                list.set(i, list.get(j));\n",
    "                list.set(j, temp);\n",
    "            }\n",
    "        }\n",
    "        Collectable temp = list.get(i + 1);\n",
    "        list.set(i + 1, list.get(high));\n",
    "        list.set(high, temp);\n",
    "        return i + 1;\n",
    "    }\n",
    "}\n",
    "\n",
    "public class CreateBeach {\n",
    "    // test data\n",
    "    public static List<Collectable> people() {\n",
    "        List<Collectable> peopleList = new LinkedList<>();\n",
    "        peopleList.add(new People(\"Beach Volleyball Dude\", 8));\n",
    "        peopleList.add(new People(\"Sandcastle\", 11));\n",
    "        peopleList.add(new People(\"Click, Half Dolphin, Half Man\", 10));\n",
    "        peopleList.add(new People(\"M.A.T.I\", 9));\n",
    "        peopleList.add(new People(\"Scuba Diver\", 1));\n",
    "\n",
    "        return peopleList;\n",
    "    }\n",
    "}"
   ]
  },
  {
   "cell_type": "markdown",
   "metadata": {},
   "source": [
    "### Sorting using Bubble Sort"
   ]
  },
  {
   "cell_type": "code",
   "execution_count": 89,
   "metadata": {
    "vscode": {
     "languageId": "java"
    }
   },
   "outputs": [
    {
     "name": "stdout",
     "output_type": "stream",
     "text": [
      "Original: \n",
      "[{\"noodleLength\": 8, \"type\": \"People\", \"masterType\": \"Collectable\"}, {\"noodleLength\": 11, \"type\": \"People\", \"masterType\": \"Collectable\"}, {\"noodleLength\": 10, \"type\": \"People\", \"masterType\": \"Collectable\"}, {\"noodleLength\": 9, \"type\": \"People\", \"masterType\": \"Collectable\"}, {\"noodleLength\": 1, \"type\": \"People\", \"masterType\": \"Collectable\"}]\n",
      "\n",
      "Sorted by Pool Noodle Length: \n",
      "[{\"noodleLength\": 1, \"type\": \"People\", \"masterType\": \"Collectable\"}, {\"noodleLength\": 10, \"type\": \"People\", \"masterType\": \"Collectable\"}, {\"noodleLength\": 11, \"type\": \"People\", \"masterType\": \"Collectable\"}, {\"noodleLength\": 8, \"type\": \"People\", \"masterType\": \"Collectable\"}, {\"noodleLength\": 9, \"type\": \"People\", \"masterType\": \"Collectable\"}]\n"
     ]
    }
   ],
   "source": [
    "List<Collectable> people = CreateBeach.people();\n",
    "People.setOrder(People.KeyType.noodleLength);\n",
    "System.out.println(\"Original: \\n\" + people + \"\\n\");\n",
    "\n",
    "People person = new People(\"\", 0);\n",
    "person.bubbleSort(people);\n",
    "System.out.println(\"Sorted by Pool Noodle Length: \\n\" + people);"
   ]
  },
  {
   "cell_type": "markdown",
   "metadata": {},
   "source": [
    "### Sorting using Selection Sort"
   ]
  },
  {
   "cell_type": "code",
   "execution_count": 90,
   "metadata": {
    "vscode": {
     "languageId": "java"
    }
   },
   "outputs": [
    {
     "name": "stdout",
     "output_type": "stream",
     "text": [
      "Original: \n",
      "[{\"noodleLength\": 8, \"type\": \"People\", \"masterType\": \"Collectable\"}, {\"noodleLength\": 11, \"type\": \"People\", \"masterType\": \"Collectable\"}, {\"noodleLength\": 10, \"type\": \"People\", \"masterType\": \"Collectable\"}, {\"noodleLength\": 9, \"type\": \"People\", \"masterType\": \"Collectable\"}, {\"noodleLength\": 1, \"type\": \"People\", \"masterType\": \"Collectable\"}]\n",
      "\n",
      "Sorted by Pool Noodle Length: \n",
      "[{\"noodleLength\": 1, \"type\": \"People\", \"masterType\": \"Collectable\"}, {\"noodleLength\": 10, \"type\": \"People\", \"masterType\": \"Collectable\"}, {\"noodleLength\": 11, \"type\": \"People\", \"masterType\": \"Collectable\"}, {\"noodleLength\": 8, \"type\": \"People\", \"masterType\": \"Collectable\"}, {\"noodleLength\": 9, \"type\": \"People\", \"masterType\": \"Collectable\"}]\n"
     ]
    }
   ],
   "source": [
    "List<Collectable> people = CreateBeach.people();\n",
    "People.setOrder(People.KeyType.noodleLength);\n",
    "System.out.println(\"Original: \\n\" + people + \"\\n\");\n",
    "\n",
    "People person = new People(\"\", 0);\n",
    "person.selectionSort(people);\n",
    "System.out.println(\"Sorted by Pool Noodle Length: \\n\" + people);"
   ]
  },
  {
   "cell_type": "markdown",
   "metadata": {},
   "source": [
    "### Sorting using Insertion Sort"
   ]
  },
  {
   "cell_type": "code",
   "execution_count": 91,
   "metadata": {
    "vscode": {
     "languageId": "java"
    }
   },
   "outputs": [
    {
     "name": "stdout",
     "output_type": "stream",
     "text": [
      "Original: \n",
      "[{\"noodleLength\": 8, \"type\": \"People\", \"masterType\": \"Collectable\"}, {\"noodleLength\": 11, \"type\": \"People\", \"masterType\": \"Collectable\"}, {\"noodleLength\": 10, \"type\": \"People\", \"masterType\": \"Collectable\"}, {\"noodleLength\": 9, \"type\": \"People\", \"masterType\": \"Collectable\"}, {\"noodleLength\": 1, \"type\": \"People\", \"masterType\": \"Collectable\"}]\n",
      "\n",
      "Sorted by Pool Noodle Length: \n",
      "[{\"noodleLength\": 1, \"type\": \"People\", \"masterType\": \"Collectable\"}, {\"noodleLength\": 10, \"type\": \"People\", \"masterType\": \"Collectable\"}, {\"noodleLength\": 11, \"type\": \"People\", \"masterType\": \"Collectable\"}, {\"noodleLength\": 8, \"type\": \"People\", \"masterType\": \"Collectable\"}, {\"noodleLength\": 9, \"type\": \"People\", \"masterType\": \"Collectable\"}]\n"
     ]
    }
   ],
   "source": [
    "List<Collectable> people = CreateBeach.people();\n",
    "People.setOrder(People.KeyType.noodleLength);\n",
    "System.out.println(\"Original: \\n\" + people + \"\\n\");\n",
    "\n",
    "People person = new People(\"\", 0);\n",
    "person.insertionSort(people);\n",
    "System.out.println(\"Sorted by Pool Noodle Length: \\n\" + people);"
   ]
  },
  {
   "cell_type": "markdown",
   "metadata": {},
   "source": [
    "### Sorting using Merge Sort"
   ]
  },
  {
   "cell_type": "code",
   "execution_count": 92,
   "metadata": {
    "vscode": {
     "languageId": "java"
    }
   },
   "outputs": [
    {
     "name": "stdout",
     "output_type": "stream",
     "text": [
      "Original: \n",
      "[{\"noodleLength\": 8, \"type\": \"People\", \"masterType\": \"Collectable\"}, {\"noodleLength\": 11, \"type\": \"People\", \"masterType\": \"Collectable\"}, {\"noodleLength\": 10, \"type\": \"People\", \"masterType\": \"Collectable\"}, {\"noodleLength\": 9, \"type\": \"People\", \"masterType\": \"Collectable\"}, {\"noodleLength\": 1, \"type\": \"People\", \"masterType\": \"Collectable\"}]\n",
      "\n",
      "Sorted by Pool Noodle Length: \n",
      "[{\"noodleLength\": 1, \"type\": \"People\", \"masterType\": \"Collectable\"}, {\"noodleLength\": 10, \"type\": \"People\", \"masterType\": \"Collectable\"}, {\"noodleLength\": 11, \"type\": \"People\", \"masterType\": \"Collectable\"}, {\"noodleLength\": 8, \"type\": \"People\", \"masterType\": \"Collectable\"}, {\"noodleLength\": 9, \"type\": \"People\", \"masterType\": \"Collectable\"}]\n"
     ]
    }
   ],
   "source": [
    "List<Collectable> people = CreateBeach.people();\n",
    "People.setOrder(People.KeyType.noodleLength);\n",
    "System.out.println(\"Original: \\n\" + people + \"\\n\");\n",
    "\n",
    "People person = new People(\"\", 0);\n",
    "person.mergeSort(people);\n",
    "System.out.println(\"Sorted by Pool Noodle Length: \\n\" + people);"
   ]
  },
  {
   "cell_type": "markdown",
   "metadata": {},
   "source": [
    "### Sorting using Quick Sort"
   ]
  },
  {
   "cell_type": "code",
   "execution_count": 93,
   "metadata": {
    "vscode": {
     "languageId": "java"
    }
   },
   "outputs": [
    {
     "name": "stdout",
     "output_type": "stream",
     "text": [
      "Original: \n",
      "[{\"noodleLength\": 8, \"type\": \"People\", \"masterType\": \"Collectable\"}, {\"noodleLength\": 11, \"type\": \"People\", \"masterType\": \"Collectable\"}, {\"noodleLength\": 10, \"type\": \"People\", \"masterType\": \"Collectable\"}, {\"noodleLength\": 9, \"type\": \"People\", \"masterType\": \"Collectable\"}, {\"noodleLength\": 1, \"type\": \"People\", \"masterType\": \"Collectable\"}]\n",
      "\n",
      "Sorted by Pool Noodle Length: \n",
      "[{\"noodleLength\": 1, \"type\": \"People\", \"masterType\": \"Collectable\"}, {\"noodleLength\": 10, \"type\": \"People\", \"masterType\": \"Collectable\"}, {\"noodleLength\": 11, \"type\": \"People\", \"masterType\": \"Collectable\"}, {\"noodleLength\": 8, \"type\": \"People\", \"masterType\": \"Collectable\"}, {\"noodleLength\": 9, \"type\": \"People\", \"masterType\": \"Collectable\"}]\n"
     ]
    }
   ],
   "source": [
    "List<Collectable> people = CreateBeach.people();\n",
    "People.setOrder(People.KeyType.noodleLength);\n",
    "System.out.println(\"Original: \\n\" + people + \"\\n\");\n",
    "\n",
    "People person = new People(\"\", 0);\n",
    "person.quickSort(people, 0, people.size() - 1);\n",
    "System.out.println(\"Sorted by Pool Noodle Length: \\n\" + people);"
   ]
  }
 ],
 "metadata": {
  "kernelspec": {
   "display_name": "Java",
   "language": "java",
   "name": "java"
  },
  "language_info": {
   "codemirror_mode": "java",
   "file_extension": ".jshell",
   "mimetype": "text/x-java-source",
   "name": "Java",
   "pygments_lexer": "java",
   "version": "19.0.2+7-44"
  }
 },
 "nbformat": 4,
 "nbformat_minor": 2
}
