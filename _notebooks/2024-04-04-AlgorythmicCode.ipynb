{
 "cells": [
  {
   "cell_type": "markdown",
   "metadata": {},
   "source": [
    "---\n",
    "title: Algorythmic Performance Code\n",
    "comments: true\n",
    "layout: post\n",
    "description: Algorythmic Performance Code\n",
    "courses: { csa: {week: 26} }\n",
    "---"
   ]
  },
  {
   "cell_type": "code",
   "execution_count": 7,
   "metadata": {
    "vscode": {
     "languageId": "java"
    }
   },
   "outputs": [
    {
     "name": "stdout",
     "output_type": "stream",
     "text": [
      "Before sorting:\n",
      "[Beach Volleyball Dude: 8, Sandcastle: 11, Click, Half Dolphin, Half Man: 10, M.A.T.I: 9, Scuba Diver: 1]\n",
      "\n",
      "After sorting:\n",
      "[Scuba Diver: 1, Beach Volleyball Dude: 8, M.A.T.I: 9, Click, Half Dolphin, Half Man: 10, Sandcastle: 11]\n"
     ]
    }
   ],
   "source": [
    "public class Person {\n",
    "    String name;\n",
    "    int noodleLength;\n",
    "\n",
    "    Person(String name, int noodleLength) {\n",
    "        this.name = name;\n",
    "        this.noodleLength = noodleLength;\n",
    "    }\n",
    "\n",
    "    @Override\n",
    "    public String toString() {\n",
    "        return name + \": \" + noodleLength;\n",
    "    }\n",
    "}\n",
    "\n",
    "public class BeachNoodleSorter {\n",
    "\n",
    "    public static void insertionSort(Person[] people) {\n",
    "        for (int i = 1; i < people.length; i++) {\n",
    "            Person key = people[i];\n",
    "            int j = i - 1;\n",
    "\n",
    "            // Move elements of people[0..i-1], that are greater than key.noodleLength,\n",
    "            // to one position ahead of their current position\n",
    "            while (j >= 0 && people[j].noodleLength > key.noodleLength) {\n",
    "                people[j + 1] = people[j];\n",
    "                j = j - 1;\n",
    "            }\n",
    "            people[j + 1] = key;\n",
    "        }\n",
    "    }\n",
    "\n",
    "    public static void main(String[] args) {\n",
    "        Person[] people = {\n",
    "            new Person(\"Beach Volleyball Dude\", 8),\n",
    "            new Person(\"Sandcastle\", 11),\n",
    "            new Person(\"Click, Half Dolphin, Half Man\", 10),\n",
    "            new Person(\"M.A.T.I\", 9),\n",
    "            new Person(\"Scuba Diver\", 1)\n",
    "        };\n",
    "\n",
    "        System.out.println(\"Before sorting:\");\n",
    "        System.out.println(Arrays.toString(people) + \"\\n\");\n",
    "\n",
    "        insertionSort(people);\n",
    "\n",
    "        System.out.println(\"After sorting:\");\n",
    "        System.out.println(Arrays.toString(people));\n",
    "    }\n",
    "}\n",
    "\n",
    "BeachNoodleSorter.main(null);"
   ]
  }
 ],
 "metadata": {
  "kernelspec": {
   "display_name": "Java",
   "language": "java",
   "name": "java"
  },
  "language_info": {
   "codemirror_mode": "java",
   "file_extension": ".jshell",
   "mimetype": "text/x-java-source",
   "name": "Java",
   "pygments_lexer": "java",
   "version": "19.0.2+7-44"
  }
 },
 "nbformat": 4,
 "nbformat_minor": 2
}
