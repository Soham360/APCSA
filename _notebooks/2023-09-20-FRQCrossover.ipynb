{
 "cells": [
  {
   "cell_type": "markdown",
   "metadata": {},
   "source": [
    "# FRQ Crossover\n",
    "> My presentation on FRQ 4 from the 2019 APCSA Exam\n",
    "\n",
    "- toc: true \n",
    "- badges: true\n",
    "- comments: true\n",
    "- courses: { csa: {week: 5} }\n",
    "- type: hacks"
   ]
  },
  {
   "cell_type": "markdown",
   "metadata": {},
   "source": [
    "[Link to Test](https://apcentral.collegeboard.org/media/pdf/ap19-frq-computer-science-a.pdf)\n",
    "\n",
    "# Problem:\n",
    "<img width=\"700\" alt=\"image\" src=\"https://github.com/Soham360/APCSA/blob/main/images/FRQ4.png?raw=true\">\n",
    "\n",
    "## Part A:\n",
    "<img width=\"700\" alt=\"image\" src=\"https://github.com/Soham360/APCSA/blob/main/images/FRQ4a.png?raw=true\">\n",
    "\n",
    "## Part B:\n",
    "<img width=\"700\" alt=\"image\" src=\"https://github.com/Soham360/APCSA/blob/main/images/FRQ4b1.png?raw=true\">\n",
    "<img width=\"700\" alt=\"image\" src=\"https://github.com/Soham360/APCSA/blob/main/images/FRQ4b2.png?raw=true\">"
   ]
  }
 ],
 "metadata": {
  "language_info": {
   "name": "python"
  },
  "orig_nbformat": 4
 },
 "nbformat": 4,
 "nbformat_minor": 2
}
