{
 "cells": [
  {
   "cell_type": "markdown",
   "metadata": {},
   "source": [
    "# FRQ Crossover\n",
    "> My presentation on FRQ 4 from the 2019 APCSA Exam\n",
    "\n",
    "- toc: true \n",
    "- badges: true\n",
    "- comments: true\n",
    "- courses: { csa: {week: 5} }\n",
    "- type: hacks"
   ]
  },
  {
   "cell_type": "markdown",
   "metadata": {},
   "source": [
    "[Link to Test](https://apcentral.collegeboard.org/media/pdf/ap19-frq-computer-science-a.pdf)\n",
    "\n",
    "# Problem:\n",
    "<img width=\"700\" alt=\"image\" src=\"https://github.com/Soham360/APCSA/blob/main/images/FRQ4.png?raw=true\">\n",
    "\n",
    "## Part A:\n",
    "<img width=\"700\" alt=\"image\" src=\"https://github.com/Soham360/APCSA/blob/main/images/FRQ4a.png?raw=true\">\n",
    "\n",
    "### Explaination:\n",
    "This question asked me to create a 2D Array of lights with the following condition.\n",
    "1. Each light had a 40% chance of being turned on.\n",
    "\n"
   ]
  },
  {
   "cell_type": "code",
   "execution_count": 47,
   "metadata": {
    "vscode": {
     "languageId": "java"
    }
   },
   "outputs": [
    {
     "name": "stdout",
     "output_type": "stream",
     "text": [
      "0 0 1 0 1 \n",
      "0 1 1 0 0 \n",
      "0 0 0 1 0 \n",
      "0 0 0 1 0 \n",
      "1 0 0 0 1 \n",
      "0 0 1 0 1 \n",
      "1 0 1 0 1 \n"
     ]
    }
   ],
   "source": [
    "public class LightBoard {\n",
    "    // Declaration of a 2D array to represent the state of lights\n",
    "    private boolean[][] lights;\n",
    "\n",
    "    public LightBoard(int numRows, int numCols) {\n",
    "        // Initialize the lights array with given dimensions\n",
    "        lights = new boolean[numRows][numCols];\n",
    "        // Loop through rows\n",
    "        for (int r = 0; r < numRows; r++) {\n",
    "            // Loop through columns\n",
    "            for (int c = 0; c < numCols; c++) {\n",
    "                // Generate a random number between 0 and 1\n",
    "                double rnd = Math.random();\n",
    "                // Set light to true if random number is less than 0.4\n",
    "                lights[r][c] = rnd < 0.4;\n",
    "            }\n",
    "        }\n",
    "    }\n",
    "\n",
    "    public static void main(String[] args) {\n",
    "        // Define the number of rows for the light board\n",
    "        int numRows = 7;\n",
    "        // Define the number of columns for the light board\n",
    "        int numCols = 5;\n",
    "        // Create a new LightBoard instance\n",
    "        LightBoard lightBoard = new LightBoard(numRows, numCols);\n",
    "\n",
    "        // Print the initial state of the lights\n",
    "        // Loop through rows\n",
    "        for (int r = 0; r < numRows; r++) {\n",
    "            // Loop through columns\n",
    "            for (int c = 0; c < numCols; c++) {\n",
    "                // Print 1 if light is on, 0 if off\n",
    "                System.out.print(lightBoard.lights[r][c] ? \"1 \" : \"0 \");\n",
    "            }\n",
    "            // Move to the next line after each row\n",
    "            System.out.println();\n",
    "        }\n",
    "    }\n",
    "}\n",
    "\n",
    "LightBoard.main(null);"
   ]
  },
  {
   "cell_type": "markdown",
   "metadata": {},
   "source": [
    "## Part B:\n",
    "<img width=\"700\" alt=\"image\" src=\"https://github.com/Soham360/APCSA/blob/main/images/FRQ4b1.png?raw=true\">\n",
    "<img width=\"700\" alt=\"image\" src=\"https://github.com/Soham360/APCSA/blob/main/images/FRQ4b2.png?raw=true\">\n",
    "\n",
    "### Explaination:\n",
    "In order to address this question, I created a method named `public boolean evaluateLight` to generate a new 2D array based on the provided criteria. The rules were as follows:\n",
    "1. If the light is on, return false if the number of lights in its column that are on is even, including the current light.\n",
    "2. If the light is off, return true if the number of lights in its column that are on is divisible by three.\n",
    "3. Otherwise, return the light’s current status.\n",
    "\n",
    "To achieve this, I used the existing lights array and applied the logic within the `evaluateLight` method. This method traversed the array, counting the number of on lights in the same column. It then used conditional statements to determine the final status of each light based on the specified rules."
   ]
  },
  {
   "cell_type": "code",
   "execution_count": 46,
   "metadata": {
    "vscode": {
     "languageId": "java"
    }
   },
   "outputs": [
    {
     "name": "stdout",
     "output_type": "stream",
     "text": [
      "false  false  false  false  false  \n",
      "true  false  true  true  false  \n",
      "false  true  true  true  false  \n",
      "true  false  false  true  true  \n",
      "true  true  true  true  false  \n",
      "false  false  false  true  false  \n",
      "true  true  false  true  false  \n",
      "\n",
      "evaluateLight(0, 3): true\n",
      "evaluateLight(6, 0): false\n",
      "evaluateLight(4, 1): true\n",
      "evaluateLight(5, 4): false\n"
     ]
    }
   ],
   "source": [
    "public class LightBoard {\n",
    "    // Declaration of a 2D array to represent the state of lights\n",
    "    private boolean[][] lights;\n",
    "\n",
    "    public LightBoard(int numRows, int numCols) {\n",
    "        // Initialize the lights array with given dimensions\n",
    "        lights = new boolean[numRows][numCols];\n",
    "        // Loop through rows\n",
    "        for (int r = 0; r < numRows; r++) {\n",
    "            // Loop through columns\n",
    "            for (int c = 0; c < numCols; c++) {\n",
    "                // Generate a random number between 0 and 1\n",
    "                double rnd = Math.random();\n",
    "                // Set light to true if random number is less than 0.4\n",
    "                lights[r][c] = rnd < 0.4;\n",
    "            }\n",
    "        }\n",
    "    }\n",
    "    public boolean evaluateLight(int row, int col) {\n",
    "        // Initialize a counter for the number of lights turned on\n",
    "        int numOn = 0;\n",
    "        // Loop through rows\n",
    "        for (int r = 0; r < lights.length; r++) {\n",
    "            // If the light in the same column is on\n",
    "            if (lights[r][col]) {\n",
    "                // Increment the counter\n",
    "                numOn++;\n",
    "            }\n",
    "        }\n",
    "\n",
    "        // If the light is currently on and the number of on lights in the column is even\n",
    "        if (lights[row][col] && numOn % 2 == 0) {\n",
    "            // Turn the light off\n",
    "            return false;\n",
    "        }\n",
    "        // If the light is currently off and the number of on lights in the column is a multiple of 3\n",
    "        if (!lights[row][col] && numOn % 3 == 0) {\n",
    "            // Turn the light on\n",
    "            return true;\n",
    "        }\n",
    "        // Otherwise, keep the light in its current state\n",
    "        return lights[row][col];\n",
    "    }\n",
    "\n",
    "    public static void main(String[] args) {\n",
    "        // Define the number of rows for the light board\n",
    "        int numRows = 7;\n",
    "        // Define the number of columns for the light board\n",
    "        int numCols = 5;\n",
    "        // Create a new LightBoard instance\n",
    "        LightBoard lightBoard = new LightBoard(numRows, numCols);\n",
    "\n",
    "        // Print the initial state of the lights\n",
    "        // Loop through rows\n",
    "        for (int r = 0; r < numRows; r++) {\n",
    "            // Loop through columns\n",
    "            for (int c = 0; c < numCols; c++) {\n",
    "                // Print true if light is on, false if off\n",
    "                System.out.print(lightBoard.lights[r][c] ? \"true  \" : \"false  \");\n",
    "            }\n",
    "            // Move to the next line after each row\n",
    "            System.out.println();\n",
    "        }\n",
    "        // Example calls to evaluateLight\n",
    "        System.out.println(\"\");\n",
    "        System.out.println(\"evaluateLight(0, 3): \" + lightBoard.evaluateLight(0, 3));\n",
    "        System.out.println(\"evaluateLight(6, 0): \" + lightBoard.evaluateLight(6, 0));\n",
    "        System.out.println(\"evaluateLight(4, 1): \" + lightBoard.evaluateLight(4, 1));\n",
    "        System.out.println(\"evaluateLight(5, 4): \" + lightBoard.evaluateLight(5, 4));\n",
    "    }\n",
    "}\n",
    "\n",
    "LightBoard.main(null);"
   ]
  }
 ],
 "metadata": {
  "kernelspec": {
   "display_name": "Java",
   "language": "java",
   "name": "java"
  },
  "language_info": {
   "codemirror_mode": "java",
   "file_extension": ".jshell",
   "mimetype": "text/x-java-source",
   "name": "Java",
   "pygments_lexer": "java",
   "version": "11.0.20+8-post-Ubuntu-1ubuntu120.04"
  },
  "orig_nbformat": 4
 },
 "nbformat": 4,
 "nbformat_minor": 2
}
