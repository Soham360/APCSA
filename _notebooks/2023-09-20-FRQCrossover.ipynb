{
 "cells": [
  {
   "cell_type": "markdown",
   "metadata": {},
   "source": [
    "---\n",
    "toc: true\n",
    "comments: true\n",
    "layout: post\n",
    "title: FRQ Crossover\n",
    "description: My presentation on FRQ 4 from the 2019 APCSA Exam\n",
    "type: hacks\n",
    "courses: {csa: {week: 5}}\n",
    "---"
   ]
  },
  {
   "cell_type": "markdown",
   "metadata": {},
   "source": [
    "# Changing / Adding Data to Arrays\n",
    "\n",
    "I created an array with the values 1, 2, 3, 4, 5, 6, 7, 8, 9. Then I replaced the value at row 2 and column 1 with 99 to make it 1, 2, 3, 4, 5, 99, 7, 8, 9. Then I added the number 6 at the end to make it 1, 2, 10, 4, 5, 6. Finally I took a user input and added that at the end as well."
   ]
  },
  {
   "cell_type": "code",
   "execution_count": 101,
   "metadata": {
    "vscode": {
     "languageId": "java"
    }
   },
   "outputs": [
    {
     "name": "stdout",
     "output_type": "stream",
     "text": [
      "Enter a new value to add to the array: [[1, 2, 3], [4, 5, 6], [7, 99, 9], [6], [19]]\n"
     ]
    }
   ],
   "source": [
    "public class ArrayOperations {\n",
    "\n",
    "    public static void main(String[] args) {\n",
    "\n",
    "        // Creates an array with values 1, 2, 3, 4, 5\n",
    "        int[][] myArray = {\n",
    "            {1, 2, 3},\n",
    "            {4, 5, 6},\n",
    "            {7, 8, 9}\n",
    "        };\n",
    "\n",
    "        // Changes the value at index 2 to 10\n",
    "        myArray[2][1] = 99;\n",
    "\n",
    "        // Declares a new variable `newValue1` and assigns it the value 6\n",
    "        int newValue1 = 6;\n",
    "\n",
    "        // Copies the original array with an additional element\n",
    "        myArray = Arrays.copyOf(myArray, myArray.length + 1);\n",
    "\n",
    "        // Creates a new row in the array and assigns the value of `newValue1` to the last element\n",
    "        myArray[myArray.length - 1] = new int[]{newValue1};\n",
    "\n",
    "        // Get user input for the new value\n",
    "        Scanner scanner = new Scanner(System.in);\n",
    "        // Prompts the user for input\n",
    "        System.out.print(\"Enter a new value to add to the array: \");\n",
    "        // Reads an integer from the user\n",
    "        int newValue2 = scanner.nextInt();\n",
    "        scanner.close();\n",
    "\n",
    "        // Copies the array with an additional element\n",
    "        myArray = Arrays.copyOf(myArray, myArray.length + 1);\n",
    "        // Creates a new row in the array and assigns the value of `newValue2` to the last element\n",
    "        myArray[myArray.length - 1] = new int[]{newValue2};\n",
    "\n",
    "        // Print the updated array\n",
    "        System.out.println(Arrays.deepToString(myArray));\n",
    "    }\n",
    "}\n",
    "\n",
    "\n",
    "ArrayOperations.main(null);\n"
   ]
  },
  {
   "cell_type": "markdown",
   "metadata": {},
   "source": [
    "# Display content backwards\n",
    "\n",
    "I started off my creating a single 3x3 array. Then I reversed it by swapping the elements at the beginning with the elements at the end. Then I outputted the array and it was printed backwards."
   ]
  },
  {
   "cell_type": "code",
   "execution_count": 92,
   "metadata": {
    "vscode": {
     "languageId": "java"
    }
   },
   "outputs": [
    {
     "name": "stdout",
     "output_type": "stream",
     "text": [
      "Original Array:\n",
      "1 2 3 \n",
      "4 5 6 \n",
      "7 8 9 \n",
      "\n",
      "Reversed Array:\n",
      "3 2 1 \n",
      "6 5 4 \n",
      "9 8 7 \n"
     ]
    }
   ],
   "source": [
    "public class Reverse2DArray {\n",
    "\n",
    "    public static void main(String[] args) {\n",
    "        // Create a 2D array with 3 rows and 3 columns\n",
    "        int[][] array = {\n",
    "            {1, 2, 3},\n",
    "            {4, 5, 6},\n",
    "            {7, 8, 9}\n",
    "        };\n",
    "\n",
    "        // Print a message indicating that this is the original array\n",
    "        System.out.println(\"Original Array:\");\n",
    "\n",
    "        // Display the content of the array\n",
    "        displayArray(array);\n",
    "\n",
    "        // Print a message indicating that the array is being reversed\n",
    "        System.out.println(\"\\nReversed Array:\");\n",
    "\n",
    "        // Reverse the content of the array\n",
    "        reverseArray(array);\n",
    "\n",
    "        // Display the reversed content of the array\n",
    "        displayArray(array);\n",
    "    }\n",
    "\n",
    "    // Method to reverse the content of the array\n",
    "    public static void reverseArray(int[][] array) {\n",
    "        // Iterate through each row of the array\n",
    "        for (int i = 0; i < array.length; i++) {\n",
    "            // Iterate through each element in the current row\n",
    "            for (int j = 0; j < array[i].length / 2; j++) {\n",
    "                // Swap the element at (i, j) with the element at (i, array[i].length - 1 - j)\n",
    "                int temp = array[i][j];\n",
    "                array[i][j] = array[i][array[i].length - 1 - j];\n",
    "                array[i][array[i].length - 1 - j] = temp;\n",
    "            }\n",
    "        }\n",
    "    }\n",
    "\n",
    "    // Method to display the content of the array\n",
    "    public static void displayArray(int[][] array) {\n",
    "        // Iterate through each row of the array\n",
    "        for (int i = 0; i < array.length; i++) {\n",
    "            // Iterate through each element in the current row\n",
    "            for (int j = 0; j < array[i].length; j++) {\n",
    "                // Print the element followed by a space\n",
    "                System.out.print(array[i][j] + \" \");\n",
    "            }\n",
    "            // Move to the next line after printing each row\n",
    "            System.out.println();\n",
    "        }\n",
    "    }\n",
    "}\n",
    "\n",
    "Reverse2DArray.main(null);"
   ]
  },
  {
   "cell_type": "markdown",
   "metadata": {},
   "source": [
    "[Link to Test](https://apcentral.collegeboard.org/media/pdf/ap19-frq-computer-science-a.pdf)\n",
    "\n",
    "# Problem:\n",
    "<img width=\"700\" alt=\"image\" src=\"https://github.com/Soham360/APCSA/blob/main/images/FRQ4.png?raw=true\">\n",
    "\n",
    "## Part A:\n",
    "<img width=\"700\" alt=\"image\" src=\"https://github.com/Soham360/APCSA/blob/main/images/FRQ4a.png?raw=true\">\n",
    "\n",
    "### Explaination:\n",
    "This question asked me to create a 2D Array of lights with the following condition.\n",
    "1. Each light had a 40% chance of being turned on.\n",
    "\n"
   ]
  },
  {
   "cell_type": "code",
   "execution_count": 100,
   "metadata": {
    "vscode": {
     "languageId": "java"
    }
   },
   "outputs": [
    {
     "name": "stdout",
     "output_type": "stream",
     "text": [
      "1 0 0 0 0 \n",
      "1 0 1 1 1 \n",
      "0 0 0 1 0 \n",
      "0 1 0 0 1 \n",
      "1 0 0 1 0 \n",
      "0 0 1 1 0 \n",
      "0 1 0 1 0 \n"
     ]
    }
   ],
   "source": [
    "public class LightBoard {\n",
    "    // Declaration of a 2D array to represent the state of lights\n",
    "    private boolean[][] lights;\n",
    "\n",
    "    public LightBoard(int numRows, int numCols) {\n",
    "        // Initialize the lights array with given dimensions\n",
    "        lights = new boolean[numRows][numCols];\n",
    "        // Loop through rows\n",
    "        for (int r = 0; r < numRows; r++) {\n",
    "            // Loop through columns\n",
    "            for (int c = 0; c < numCols; c++) {\n",
    "                // Generate a random number between 0 and 1\n",
    "                double chance = Math.random();\n",
    "                // Set light to true if random number is less than 0.4\n",
    "                lights[r][c] = chance < 0.4;\n",
    "            }\n",
    "        }\n",
    "    }\n",
    "\n",
    "    public static void main(String[] args) {\n",
    "        // Define the number of rows for the light board\n",
    "        int numRows = 7;\n",
    "        // Define the number of columns for the light board\n",
    "        int numCols = 5;\n",
    "        // Create a new LightBoard instance\n",
    "        LightBoard lightBoard = new LightBoard(numRows, numCols);\n",
    "\n",
    "        // Print the initial state of the lights\n",
    "        // Loop through rows\n",
    "        for (int r = 0; r < numRows; r++) {\n",
    "            // Loop through columns\n",
    "            for (int c = 0; c < numCols; c++) {\n",
    "                // Print 1 if light is on, 0 if off\n",
    "                System.out.print(lightBoard.lights[r][c] ? \"1 \" : \"0 \");\n",
    "            }\n",
    "            // Move to the next line after each row\n",
    "            System.out.println();\n",
    "        }\n",
    "    }\n",
    "}\n",
    "\n",
    "LightBoard.main(null);"
   ]
  },
  {
   "cell_type": "markdown",
   "metadata": {},
   "source": [
    "## Part B:\n",
    "<img width=\"700\" alt=\"image\" src=\"https://github.com/Soham360/APCSA/blob/main/images/FRQ4b1.png?raw=true\">\n",
    "<img width=\"700\" alt=\"image\" src=\"https://github.com/Soham360/APCSA/blob/main/images/FRQ4b2.png?raw=true\">\n",
    "\n",
    "### Explaination:\n",
    "In order to answer this question, I created a method named `public boolean evaluateLight` to generate a new 2D array based on the provided criteria. The rules were as follows:\n",
    "1. If the light is on, return false if the number of lights in its column that are on is even, including the current light.\n",
    "2. If the light is off, return true if the number of lights in its column that are on is divisible by three.\n",
    "3. Otherwise, return the light’s current status.\n",
    "\n",
    "To achieve this, I used the existing lights array and applied the logic within the `evaluateLight` method. This method traversed the array, counting the number of on lights in the same column. It then used conditional statements to determine the final status of each light based on the specified rules. The array in the output is the same array from Part A. The evaluateLight part gives the output of a given coordinate (row,column) after passing through the above three rules."
   ]
  },
  {
   "cell_type": "code",
   "execution_count": 60,
   "metadata": {
    "vscode": {
     "languageId": "java"
    }
   },
   "outputs": [
    {
     "name": "stdout",
     "output_type": "stream",
     "text": [
      "1 0 1 1 1 \n",
      "1 0 0 1 1 \n",
      "0 0 1 0 0 \n",
      "0 1 0 1 1 \n",
      "0 1 1 0 0 \n",
      "0 0 1 0 1 \n",
      "1 1 0 1 1 \n",
      "\n",
      "evaluateLight(0, 3): false\n",
      "evaluateLight(6, 0): true\n",
      "evaluateLight(4, 1): true\n",
      "evaluateLight(5, 4): true\n"
     ]
    }
   ],
   "source": [
    "public class LightBoard {\n",
    "    // Declaration of a 2D array to represent the state of lights\n",
    "    private boolean[][] lights;\n",
    "\n",
    "    public LightBoard(int numRows, int numCols) {\n",
    "        // Initialize the lights array with given dimensions\n",
    "        lights = new boolean[numRows][numCols];\n",
    "        // Loop through rows\n",
    "        for (int r = 0; r < numRows; r++) {\n",
    "            // Loop through columns\n",
    "            for (int c = 0; c < numCols; c++) {\n",
    "                // Generate a random number between 0 and 1\n",
    "                double rnd = Math.random();\n",
    "                // Set light to true if random number is less than 0.4\n",
    "                lights[r][c] = rnd < 0.4;\n",
    "            }\n",
    "        }\n",
    "    }\n",
    "    public boolean evaluateLight(int row, int col) {\n",
    "        // Initialize a counter for the number of lights turned on\n",
    "        int numOn = 0;\n",
    "        // Loop through rows\n",
    "        for (int r = 0; r < lights.length; r++) {\n",
    "            // If the light in the same column is on\n",
    "            if (lights[r][col]) {\n",
    "                // Increment the counter\n",
    "                numOn++;\n",
    "            }\n",
    "        }\n",
    "\n",
    "        // If the light is currently on and the number of on lights in the column is even\n",
    "        if (lights[row][col] && numOn % 2 == 0) {\n",
    "            // Turn the light off\n",
    "            return false;\n",
    "        }\n",
    "        // If the light is currently off and the number of on lights in the column is a multiple of 3\n",
    "        if (!lights[row][col] && numOn % 3 == 0) {\n",
    "            // Turn the light on\n",
    "            return true;\n",
    "        }\n",
    "        // Otherwise, keep the light in its current state\n",
    "        return lights[row][col];\n",
    "    }\n",
    "\n",
    "    public static void main(String[] args) {\n",
    "        // Define the number of rows for the light board\n",
    "        int numRows = 7;\n",
    "        // Define the number of columns for the light board\n",
    "        int numCols = 5;\n",
    "        // Create a new LightBoard instance\n",
    "        LightBoard lightBoard = new LightBoard(numRows, numCols);\n",
    "\n",
    "        // Print the initial state of the lights\n",
    "        // Loop through rows\n",
    "        for (int r = 0; r < numRows; r++) {\n",
    "            // Loop through columns\n",
    "            for (int c = 0; c < numCols; c++) {\n",
    "                // Print 1 if light is on, 0 if off\n",
    "                System.out.print(lightBoard.lights[r][c] ? \"1 \" : \"0 \");\n",
    "            }\n",
    "            // Move to the next line after each row\n",
    "            System.out.println();\n",
    "        }\n",
    "        // Example calls to evaluateLight\n",
    "        System.out.println(\"\");\n",
    "        System.out.println(\"evaluateLight(0, 3): \" + lightBoard.evaluateLight(0, 3));\n",
    "        System.out.println(\"evaluateLight(6, 0): \" + lightBoard.evaluateLight(6, 0));\n",
    "        System.out.println(\"evaluateLight(4, 1): \" + lightBoard.evaluateLight(4, 1));\n",
    "        System.out.println(\"evaluateLight(5, 4): \" + lightBoard.evaluateLight(5, 4));\n",
    "    }\n",
    "}\n",
    "\n",
    "LightBoard.main(null);"
   ]
  }
 ],
 "metadata": {
  "kernelspec": {
   "display_name": "Java",
   "language": "java",
   "name": "java"
  },
  "language_info": {
   "codemirror_mode": "java",
   "file_extension": ".jshell",
   "mimetype": "text/x-java-source",
   "name": "Java",
   "pygments_lexer": "java",
   "version": "11.0.20+8-post-Ubuntu-1ubuntu120.04"
  },
  "orig_nbformat": 4
 },
 "nbformat": 4,
 "nbformat_minor": 2
}
