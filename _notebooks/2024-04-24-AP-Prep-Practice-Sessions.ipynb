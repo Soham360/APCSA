{
 "cells": [
  {
   "cell_type": "code",
   "execution_count": null,
   "metadata": {
    "vscode": {
     "languageId": "java"
    }
   },
   "outputs": [],
   "source": [
    "public class AppointmentBook {\n",
    "    private boolean isMinuteFree(int period, int minute) {\n",
    "        if minute \n",
    "    }\n",
    "    \n",
    "    private void reserveBlock(int period, int startMinute, int duration) {\n",
    "\n",
    "    }\n",
    "\n",
    "    public int findFreeBlock(int period, int duration) {\n",
    "\n",
    "    }\n",
    "\n",
    "    public boolean makeAppointment(int startPeriod, int endPeriod, int duration) {\n",
    "\n",
    "    }\n",
    "}"
   ]
  }
 ],
 "metadata": {
  "language_info": {
   "name": "python"
  }
 },
 "nbformat": 4,
 "nbformat_minor": 2
}
