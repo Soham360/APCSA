{
 "cells": [
  {
   "cell_type": "markdown",
   "metadata": {},
   "source": [
    "---\n",
    "title: Wednesday Workshop 1 Answers\n",
    "toc: true\n",
    "layout: post\n",
    "comments: true\n",
    "type: tangibles\n",
    "courses: { csp: {week: 27} }\n",
    "---"
   ]
  },
  {
   "cell_type": "markdown",
   "metadata": {},
   "source": [
    "# Question 1: Primitive Types vs Reference Types (Unit 1)\n",
    "\n",
    "Situation: You are developing a banking application where you need to represent customer information. You have decided to use both primitive types and reference types for this purpose.\n",
    "\n",
    "(a) Define primitive types and reference types in Java. Provide examples of each.\n",
    "- Primitive types represent basic data types in Java and are predefined by the language. They are not objects and do not have methods associated with them. They are stored directly in memory, and their values are accessed quickly.\n",
    "    ```java\n",
    "    int num = 10;\n",
    "    double pi = 3.14;\n",
    "    char letter = 'A';\n",
    "    boolean flag = true;\n",
    "    ```\n",
    "- Reference types refer to objects in memory. They are created using classes or interfaces and store references (memory addresses) to objects. Reference types can have methods and other members associated with them. They are allocated memory in the heap.\n",
    "    ```java\n",
    "    String str = \"Hello\"; // String is a reference type\n",
    "    MyClass obj = new MyClass(); // MyClass is a class defined elsewhere\n",
    "    int[] array = new int[5]; // array is a reference type\n",
    "    ```\n",
    "\n",
    "(b) Explain the differences between primitive types and reference types in terms of memory allocation and usage in Java programs.\n",
    "- Primitive types store their values in memory and reference types store references to values in the heap. Primitive types have a limited memory size that depends on the type while reference variable are stored in the stack memory, while the object's data is stored in the heap.\n",
    "\n",
    "(c) Code:\n",
    "\n",
    "You have a method `calculateInterest` that takes a primitive `double` type representing the principal amount and a reference type `Customer` representing the customer information. Write the method signature and the method implementation. Include comments to explain your code."
   ]
  },
  {
   "cell_type": "code",
   "execution_count": 5,
   "metadata": {
    "vscode": {
     "languageId": "java"
    }
   },
   "outputs": [
    {
     "name": "stdout",
     "output_type": "stream",
     "text": [
      "Interest: $50.0\n",
      "Total: $1050.0\n"
     ]
    }
   ],
   "source": [
    "public class BankingApplication {\n",
    "    \n",
    "    // this is the customer class used in the calculateInterest method\n",
    "    public static class Customer {\n",
    "        \n",
    "        private String name; // refrence type\n",
    "\n",
    "        public Customer(String name) {\n",
    "            this.name = name;\n",
    "        }\n",
    "    }\n",
    "\n",
    "    // method signature for calculating interest\n",
    "    public static double calculateInterest(double principalAmount, Customer customer) {\n",
    "\n",
    "        double interestRate = 0.05; // 5%    primitive type\n",
    "        double interest = principalAmount * interestRate; // primitive type\n",
    "        \n",
    "        return interest;\n",
    "    }\n",
    "\n",
    "    public static void main(String[] args) {\n",
    "        Customer customer = new Customer(\"Soham Kamat\");\n",
    "        \n",
    "        double principalAmount = 1000.00;\n",
    "        double interest = calculateInterest(principalAmount, customer);\n",
    "        \n",
    "        System.out.println(\"Interest: $\" + interest);\n",
    "        System.out.println(\"Total: $\" + (interest + principalAmount));\n",
    "    }\n",
    "}\n",
    "\n",
    "BankingApplication.main(null);"
   ]
  },
  {
   "cell_type": "markdown",
   "metadata": {},
   "source": [
    "# Question 2: Iteration over 2D arrays (Unit 4)\n",
    "\n",
    "Situation: You are developing a game where you need to track player scores on a 2D grid representing levels and attempts.\n",
    "\n",
    "(a) Explain the concept of iteration over a 2D array in Java. Provide an example scenario where iterating over a 2D array is useful in a programming task.\n",
    "- Iteration over a 2D array means going through each element in the array. In a 2D Array, this is most commonly done with a nested for loop. One is used for iterating through the rows and the other is used for iterating through the columns. Iterating over a 2D array is useful when you are \n",
    "\n",
    "(b) Code:\n",
    "\n",
    "You need to implement a method calculateTotalScore that takes a 2D array scores of integers representing player scores and returns the sum of all the elements in the array. Write the method signature and the method implementation. Include comments to explain your code."
   ]
  },
  {
   "cell_type": "code",
   "execution_count": 6,
   "metadata": {
    "vscode": {
     "languageId": "java"
    }
   },
   "outputs": [
    {
     "name": "stdout",
     "output_type": "stream",
     "text": [
      "Total Score: 153\n"
     ]
    }
   ],
   "source": [
    "public class ScoreCalculator {\n",
    "    // method signature for calculating total score\n",
    "    public static int calculateTotalScore(int[][] scores) {\n",
    "\n",
    "        int totalScore = 0;\n",
    "\n",
    "        // Iterate through each row of the 2D array\n",
    "        for (int i = 0; i < scores.length; i++) {\n",
    "            // Iterate through each element in the current row\n",
    "            for (int j = 0; j < scores[i].length; j++) {\n",
    "                // Add the current element to the total score\n",
    "                totalScore += scores[i][j];\n",
    "            }\n",
    "        }\n",
    "\n",
    "        // Return the total score\n",
    "        return totalScore;\n",
    "    }\n",
    "\n",
    "    public static void main(String[] args) {\n",
    "\n",
    "        int[][] playerScores = {\n",
    "            {10, 20, 30}, // Sum: 60\n",
    "            {5, 15, 25},  // Sum: 45\n",
    "            {8, 16, 24}   // Sum: 48\n",
    "        }; // Total Sum: 153\n",
    "        \n",
    "        // Calculate total score\n",
    "        int totalScore = calculateTotalScore(playerScores);\n",
    "        \n",
    "        // Print total score\n",
    "        System.out.println(\"Total Score: \" + totalScore);\n",
    "    }\n",
    "}\n",
    "\n",
    "ScoreCalculator.main(null);"
   ]
  },
  {
   "cell_type": "markdown",
   "metadata": {},
   "source": [
    "# Question 3: Array (Unit 6)\n",
    "\n",
    "Situation: You are developing a student management system where you need to store and analyze the grades of students in a class.\n",
    "\n",
    "(a) Define an array in Java. Explain its significance and usefulness in programming.\n",
    "- An array in Java is a data structure that stores a fixed-size collection of elements of the same type. It has the ability to efficiently store and access multiple elements of data sequentially, allowing for easy manipulation and processing of data in algorithms and programs.\n",
    "\n",
    "(b) Code:\n",
    "\n",
    "You need to implement a method calculateAverageGrade that takes an array grades of integers representing student grades and returns the average of all the elements in the array. Write the method signature and the method implementation. Include comments to explain your code."
   ]
  },
  {
   "cell_type": "code",
   "execution_count": null,
   "metadata": {
    "vscode": {
     "languageId": "java"
    }
   },
   "outputs": [],
   "source": [
    "public class GradeAnalyzer {\n",
    "    // method signature for calculating average grade\n",
    "    public static double calculateAverageGrade(int[] grades) {\n",
    "\n",
    "        int sum = 0;\n",
    "\n",
    "        // Iterate through each element in the array\n",
    "        for (int grade : grades) {\n",
    "            // Add the current grade to the sum\n",
    "            sum += grade;\n",
    "        }\n",
    "\n",
    "        // calculate the average\n",
    "        double average = (double) sum / grades.length;\n",
    "\n",
    "\n",
    "        return average;\n",
    "    }\n",
    "\n",
    "    public static void main(String[] args) {\n",
    "\n",
    "        int[] studentGrades = {85, 90, 75, 88, 92};\n",
    "        \n",
    "        // Calculate average grade\n",
    "        double averageGrade = calculateAverageGrade(studentGrades);\n",
    "        \n",
    "        // Print average grade\n",
    "        System.out.println(\"Average Grade: \" + averageGrade);\n",
    "    }\n",
    "}\n",
    "\n",
    "GradeAnalyzer.main(null);"
   ]
  },
  {
   "cell_type": "markdown",
   "metadata": {},
   "source": [
    "# Question 4: Math Class (Unit 2)\n",
    "\n",
    "Situation: You are developing a scientific calculator application where users need to perform various mathematical operations.\n",
    "\n",
    "(a) Discuss the purpose and utility of the Math class in Java programming. Provide examples of at least three methods provided by the Math class and explain their usage.\n",
    "\n",
    "(b) Code:\n",
    "\n",
    "You need to implement a method calculateSquareRoot that takes a double number as input and returns its square root using the Math class. Write the method signature and the method implementation. Include comments to explain your code."
   ]
  },
  {
   "cell_type": "code",
   "execution_count": null,
   "metadata": {
    "vscode": {
     "languageId": "java"
    }
   },
   "outputs": [],
   "source": []
  },
  {
   "cell_type": "markdown",
   "metadata": {},
   "source": [
    "# Question 5: If, While, Else (Unit 3-4)\n",
    "\n",
    "Situation: You are developing a simple grading system where you need to determine if a given score is passing or failing.\n",
    "\n",
    "(a) Explain the roles and usage of the if statement, while loop, and else statement in Java programming. Provide examples illustrating each.\n",
    "\n",
    "(b) Code:\n",
    "\n",
    "You need to implement a method printGradeStatus that takes an integer score as input and prints “Pass” if the score is greater than or equal to 60, and “Fail” otherwise. Write the method signature and the method implementation. Include comments to explain your code."
   ]
  }
 ],
 "metadata": {
  "kernelspec": {
   "display_name": "Java",
   "language": "java",
   "name": "java"
  },
  "language_info": {
   "codemirror_mode": "java",
   "file_extension": ".jshell",
   "mimetype": "text/x-java-source",
   "name": "Java",
   "pygments_lexer": "java",
   "version": "17.0.6+9-LTS-190"
  }
 },
 "nbformat": 4,
 "nbformat_minor": 2
}
