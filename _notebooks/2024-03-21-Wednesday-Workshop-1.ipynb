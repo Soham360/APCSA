{
 "cells": [
  {
   "cell_type": "markdown",
   "metadata": {},
   "source": [
    "---\n",
    "title: Wednesday Workshop 1 Answers\n",
    "description: My answer to the Collegeboard 2015 Practice Exam FRQ 1\n",
    "toc: true\n",
    "layout: post\n",
    "comments: true\n",
    "courses: { csp: {week: 27} }\n",
    "---"
   ]
  },
  {
   "cell_type": "markdown",
   "metadata": {},
   "source": [
    "# Question 1: Primitive Types vs Reference Types (Unit 1)\n",
    "### Part 1"
   ]
  },
  {
   "cell_type": "code",
   "execution_count": 4,
   "metadata": {
    "vscode": {
     "languageId": "java"
    }
   },
   "outputs": [
    {
     "name": "stdout",
     "output_type": "stream",
     "text": [
      "16\n"
     ]
    }
   ],
   "source": [
    "public class Person {\n",
    "    String name;\n",
    "    int age;\n",
    "    int height;\n",
    "    String job;\n",
    "\n",
    "    public Person(String name, int age, int height, String job) {\n",
    "        this.name = name;\n",
    "        this.age = age;\n",
    "        this.height = height;\n",
    "        this.job = job;\n",
    "    }\n",
    "}\n",
    "\n",
    "public static void main(String[] args) {\n",
    "    Person person1 = new Person(\"Carl\", 25, 165, \"Construction Worker\");\n",
    "    Person person2 = new Person(\"Adam\", 29, 160, \"Truck Driver\");\n",
    "    Person person3 = person1;\n",
    "    int number = 16;\n",
    "    System.out.println(number);\n",
    "}\n",
    "main(null);"
   ]
  },
  {
   "cell_type": "markdown",
   "metadata": {},
   "source": [
    "Answer the following questions based on the code above:\n",
    "\n",
    "1. What kind of types are person1 and person2? \n",
    "- Answer: person1 and person2 are reference types. They are instances of the class Person.\n",
    "2. Do person1 and person3 point to the same value in memory?\n",
    "- Answer: Yes, person1 and person3 point to the same value in memory. When person3 is assigned the value of person1, it doesn't create a new object; instead, it refers to the same object as person1.\n",
    "3. Is the integer \"number\" stored in the heap or in the stack?\n",
    "- Answer: The integer \"number\" is stored in the stack.\n",
    "4. Is the value that \"person1\" points to stored in the heap or in the stack?\n",
    "- Answer: The value that \"person1\" points to is stored in the heap.\n",
    "\n",
    "### Part 2\n",
    "Question 1: Primitive Types vs Reference Types (Unit 1)\n",
    "\n",
    "Situation: You are developing a banking application where you need to represent customer information. You have decided to use both primitive types and reference types for this purpose.\n",
    "\n",
    "(a) Define primitive types and reference types in Java. Provide examples of each.\n",
    "- Primitive types represent basic data types in Java and are predefined by the language. They are not objects and do not have methods associated with them. They are stored directly in memory, and their values are accessed quickly.\n",
    "    ```java\n",
    "    int num = 10;\n",
    "    double pi = 3.14;\n",
    "    char letter = 'A';\n",
    "    boolean flag = true;\n",
    "    ```\n",
    "- Reference types refer to objects in memory. They are created using classes or interfaces and store references (memory addresses) to objects. Reference types can have methods and other members associated with them. They are allocated memory in the heap.\n",
    "    ```java\n",
    "    String str = \"Hello\"; // String is a reference type\n",
    "    MyClass obj = new MyClass(); // MyClass is a class defined elsewhere\n",
    "    int[] array = new int[5]; // array is a reference type\n",
    "    ```\n",
    "\n",
    "(b) Explain the differences between primitive types and reference types in terms of memory allocation and usage in Java programs.\n",
    "- Primitive types store their values in memory and reference types store references to values in the heap. Primitive types have a limited memory size that depends on the type while reference variable are stored in the stack memory, while the object's data is stored in the heap.\n",
    "\n",
    "(c) Code:\n",
    "\n",
    "You have a method `calculateInterest` that takes a primitive `double` type representing the principal amount and a reference type `Customer` representing the customer information. Write the method signature and the method implementation. Include comments to explain your code."
   ]
  },
  {
   "cell_type": "code",
   "execution_count": 5,
   "metadata": {
    "vscode": {
     "languageId": "java"
    }
   },
   "outputs": [
    {
     "name": "stdout",
     "output_type": "stream",
     "text": [
      "Interest: $50.0\n",
      "Total: $1050.0\n"
     ]
    }
   ],
   "source": [
    "public class BankingApplication {\n",
    "    \n",
    "    // this is the customer class used in the calculateInterest method\n",
    "    public static class Customer {\n",
    "        \n",
    "        private String name; // refrence type\n",
    "\n",
    "        public Customer(String name) {\n",
    "            this.name = name;\n",
    "        }\n",
    "    }\n",
    "\n",
    "    // method signature for calculating interest\n",
    "    public static double calculateInterest(double principalAmount, Customer customer) {\n",
    "\n",
    "        double interestRate = 0.05; // 5%    primitive type\n",
    "        double interest = principalAmount * interestRate; // primitive type\n",
    "        \n",
    "        return interest;\n",
    "    }\n",
    "\n",
    "    public static void main(String[] args) {\n",
    "        Customer customer = new Customer(\"Soham Kamat\");\n",
    "        \n",
    "        double principalAmount = 1000.00;\n",
    "        double interest = calculateInterest(principalAmount, customer);\n",
    "        \n",
    "        System.out.println(\"Interest: $\" + interest);\n",
    "        System.out.println(\"Total: $\" + (interest + principalAmount));\n",
    "    }\n",
    "}\n",
    "\n",
    "BankingApplication.main(null);"
   ]
  }
 ],
 "metadata": {
  "kernelspec": {
   "display_name": "Java",
   "language": "java",
   "name": "java"
  },
  "language_info": {
   "codemirror_mode": "java",
   "file_extension": ".jshell",
   "mimetype": "text/x-java-source",
   "name": "Java",
   "pygments_lexer": "java",
   "version": "17.0.6+9-LTS-190"
  }
 },
 "nbformat": 4,
 "nbformat_minor": 2
}
