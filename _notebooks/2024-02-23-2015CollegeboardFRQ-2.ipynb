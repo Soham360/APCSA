{
 "cells": [
  {
   "cell_type": "markdown",
   "metadata": {},
   "source": [
    "---\n",
    "title: Collegeboard 2015 Practice Exam FRQ 2\n",
    "description: My answer to the Collegeboard 2015 Practice Exam FRQ 2\n",
    "toc: true\n",
    "layout: post\n",
    "comments: true\n",
    "---"
   ]
  },
  {
   "cell_type": "markdown",
   "metadata": {},
   "source": [
    "## Classes\n",
    "- This FRQ was about comparing and finding the similarities between a secret word and a guessed word. This FRQ is basically the extremely popular game Wordle and I'm surprised it became as popular as it did being this simple. For this question, I had to go through a guessed word and give clues based on matching letters and if they're in the hidden word. This was very challenging for me and I had to google a few things (such as the charAt function) to make the program much a lot simpler. By using Classes, I managed to finish the Wordle game.\n",
    "\n",
    "### Program"
   ]
  },
  {
   "cell_type": "code",
   "execution_count": 13,
   "metadata": {},
   "outputs": [
    {
     "name": "stdout",
     "output_type": "stream",
     "text": [
      "+A+++\n",
      "H****\n",
      "H*++*\n",
      "HAR*S\n",
      "HARPS\n"
     ]
    }
   ],
   "source": [
    "public class HiddenWord {\n",
    "    \n",
    "    public String word;\n",
    "    \n",
    "    public HiddenWord(String w) {\n",
    "        word = w;\n",
    "    }\n",
    "\n",
    "    public String getHint(String guess) {\n",
    "        String result = \"\";\n",
    "\n",
    "        for (int i = 0; i < guess.length(); i++) {\n",
    "            if (guess.charAt(i) == word.charAt(i))\n",
    "                result += \"\" + guess.charAt(i);\n",
    "            else if (word.indexOf(guess.charAt(i)) > -1)\n",
    "                result += \"+\";\n",
    "            else\n",
    "                result += \"*\";\n",
    "        }\n",
    "\n",
    "        return result;\n",
    "    }\n",
    "\n",
    "    public static void main(String[] args) {\n",
    "        HiddenWord puzzle = new HiddenWord(\"HARPS\");\n",
    "        System.out.println(puzzle.getHint(\"AAAAA\"));\n",
    "        System.out.println(puzzle.getHint(\"HELLO\"));\n",
    "        System.out.println(puzzle.getHint(\"HEART\"));\n",
    "        System.out.println(puzzle.getHint(\"HARMS\"));\n",
    "        System.out.println(puzzle.getHint(\"HARPS\"));\n",
    "    }\n",
    "}\n",
    "\n",
    "HiddenWord.main(null);"
   ]
  }
 ],
 "metadata": {
  "kernelspec": {
   "display_name": "Java",
   "language": "java",
   "name": "java"
  },
  "language_info": {
   "codemirror_mode": "java",
   "file_extension": ".jshell",
   "mimetype": "text/x-java-source",
   "name": "java",
   "pygments_lexer": "java",
   "version": "17.0.6+9-LTS-190"
  }
 },
 "nbformat": 4,
 "nbformat_minor": 2
}
