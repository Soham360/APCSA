{
 "cells": [
  {
   "cell_type": "markdown",
   "metadata": {},
   "source": [
    "---\n",
    "title: Collegeboard 2015 Practice Exam FRQ 4\n",
    "description: My answer to the Collegeboard 2015 Practice Exam FRQ 4\n",
    "toc: true\n",
    "layout: post\n",
    "comments: true\n",
    "---"
   ]
  },
  {
   "cell_type": "markdown",
   "metadata": {
    "vscode": {
     "languageId": "java"
    }
   },
   "source": [
    "# Interfaces (Includes Classes and some Methods and Control Structures)\n",
    "- This FRQ made me think about how to use Java's object-oriented features effectively. It made me consider how to organize classes and use concepts like interfaces. By creating a NumberGroup interface and implementing it in multiple ways, I was able to build a system that checks if numbers fall within certain ranges. This shows how Classes and Methods and Control Structures were used in this FRQ.\n",
    "\n",
    "### Part A"
   ]
  },
  {
   "cell_type": "code",
   "execution_count": 28,
   "metadata": {
    "vscode": {
     "languageId": "java"
    }
   },
   "outputs": [
    {
     "name": "stdout",
     "output_type": "stream",
     "text": [
      "Group1 contains -5: true\n",
      "Group1 contains 3: true\n",
      "Group1 contains 2: false\n"
     ]
    }
   ],
   "source": [
    "// NumberGroup interface\n",
    "interface NumberGroup {\n",
    "    boolean contains(int number);\n",
    "}\n",
    "\n",
    "// Simple implementation of NumberGroup interface\n",
    "class SimpleNumberGroup implements NumberGroup {\n",
    "    private int[] numbers;\n",
    "\n",
    "    // Constructor\n",
    "    public SimpleNumberGroup(int[] numbers) {\n",
    "        this.numbers = numbers;\n",
    "    }\n",
    "\n",
    "    // Method to check if a number is in the group\n",
    "    public boolean contains(int number) {\n",
    "        for (int num : numbers) {\n",
    "            if (num == number) {\n",
    "                return true;\n",
    "            }\n",
    "        }\n",
    "        return false;\n",
    "    }\n",
    "}\n",
    "\n",
    "// Main class for testing\n",
    "public class MainA {\n",
    "    public static void main(String[] args) {\n",
    "        // Example usage\n",
    "        int[] group1Numbers = {-5, 3};\n",
    "        NumberGroup group1 = new SimpleNumberGroup(group1Numbers);\n",
    "\n",
    "        System.out.println(\"Group1 contains -5: \" + group1.contains(-5)); // Should print true\n",
    "        System.out.println(\"Group1 contains 3: \" + group1.contains(3));   // Should print true\n",
    "        System.out.println(\"Group1 contains 2: \" + group1.contains(2));   // Should print false\n",
    "\n",
    "    }\n",
    "}\n",
    "\n",
    "MainA.main(null);"
   ]
  },
  {
   "cell_type": "markdown",
   "metadata": {},
   "source": [
    "### Part B"
   ]
  },
  {
   "cell_type": "code",
   "execution_count": 29,
   "metadata": {
    "vscode": {
     "languageId": "java"
    }
   },
   "outputs": [
    {
     "name": "stdout",
     "output_type": "stream",
     "text": [
      "Range1 contains -5: false\n",
      "Range1 contains 0: true\n",
      "Range2 contains 3: false\n",
      "Range2 contains 21: true\n",
      "Range3 contains -101: false\n",
      "Range3 contains -72: true\n"
     ]
    }
   ],
   "source": [
    "// Range class implementing NumberGroup\n",
    "class Range implements NumberGroup {\n",
    "    private int min;\n",
    "    private int max;\n",
    "\n",
    "    // Constructor\n",
    "    public Range(int min, int max) {\n",
    "        this.min = min;\n",
    "        this.max = max;\n",
    "    }\n",
    "\n",
    "    // Method to check if a number is within the range\n",
    "    public boolean contains(int number) {\n",
    "        return number >= min && number <= max;\n",
    "    }\n",
    "}\n",
    "\n",
    "// Main class for testing\n",
    "public class MainB {\n",
    "    public static void main(String[] args) {\n",
    "        // Example usage\n",
    "        NumberGroup range1 = new Range(-3, 2);\n",
    "        NumberGroup range2 = new Range(17, 21);\n",
    "        NumberGroup range3 = new Range(-100, -52);\n",
    "\n",
    "        System.out.println(\"Range1 contains -5: \" + range1.contains(-5)); // Should print false\n",
    "        System.out.println(\"Range1 contains 0: \" + range1.contains(0));   // Should print true\n",
    "\n",
    "        System.out.println(\"Range2 contains 3: \" + range2.contains(3)); // Should print false\n",
    "        System.out.println(\"Range2 contains 21: \" + range2.contains(21));   // Should print true\n",
    "\n",
    "        System.out.println(\"Range3 contains -101: \" + range3.contains(-101)); // Should print false\n",
    "        System.out.println(\"Range3 contains -72: \" + range3.contains(-72));   // Should print true\n",
    "\n",
    "    }\n",
    "}\n",
    "\n",
    "MainB.main(null);"
   ]
  },
  {
   "cell_type": "markdown",
   "metadata": {},
   "source": [
    "### Part C"
   ]
  },
  {
   "cell_type": "code",
   "execution_count": 30,
   "metadata": {
    "vscode": {
     "languageId": "java"
    }
   },
   "outputs": [
    {
     "name": "stdout",
     "output_type": "stream",
     "text": [
      "Multiple1 contains 2: true\n",
      "Multiple1 contains 9: false\n",
      "Multiple1 contains 6: true\n"
     ]
    }
   ],
   "source": [
    "// MultipleGroups class representing a collection of NumberGroup objects\n",
    "class MultipleGroups implements NumberGroup {\n",
    "    private List<NumberGroup> groupList;\n",
    "\n",
    "    // Constructor\n",
    "    public MultipleGroups(List<NumberGroup> groupList) {\n",
    "        this.groupList = groupList;\n",
    "    }\n",
    "\n",
    "    // Method to check if the integer is contained in one or more number groups\n",
    "    public boolean contains(int number) {\n",
    "        for (NumberGroup group : groupList) {\n",
    "            if (group.contains(number)) {\n",
    "                return true;\n",
    "            }\n",
    "        }\n",
    "        return false;\n",
    "    }\n",
    "}\n",
    "\n",
    "// Main class for testing\n",
    "public class MainC {\n",
    "    public static void main(String[] args) {\n",
    "        // Example usage\n",
    "        MultipleGroups multiple1 = new MultipleGroups(List.of(\n",
    "                new Range(5, 8),\n",
    "                new Range(10, 12),\n",
    "                new Range(1, 6)\n",
    "        ));\n",
    "\n",
    "        System.out.println(\"Multiple1 contains 2: \" + multiple1.contains(2)); // Should print true\n",
    "        System.out.println(\"Multiple1 contains 9: \" + multiple1.contains(9)); // Should print false\n",
    "        System.out.println(\"Multiple1 contains 6: \" + multiple1.contains(6)); // Should print true\n",
    "    }\n",
    "}\n",
    "\n",
    "MainC.main(null); "
   ]
  }
 ],
 "metadata": {
  "kernelspec": {
   "display_name": "Java",
   "language": "java",
   "name": "java"
  },
  "language_info": {
   "codemirror_mode": "java",
   "file_extension": ".jshell",
   "mimetype": "text/x-java-source",
   "name": "Java",
   "pygments_lexer": "java",
   "version": "17.0.6+9-LTS-190"
  }
 },
 "nbformat": 4,
 "nbformat_minor": 2
}
