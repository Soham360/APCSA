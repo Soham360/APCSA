{
 "cells": [
  {
   "cell_type": "markdown",
   "metadata": {},
   "source": [
    "---\n",
    "title: Collegeboard 2015 Practice Exam FRQ 1\n",
    "description: My answer to the Collegeboard 2015 Practice Exam FRQ 1\n",
    "toc: true\n",
    "layout: post\n",
    "comments: true\n",
    "---"
   ]
  },
  {
   "cell_type": "markdown",
   "metadata": {},
   "source": [
    "## 1D & 2D Arrays\n",
    "- This FRQ was helpful in a lot of ways because it made me go back to the basics and also made me consider new ways to use what I know. The Key Algorithm was 2D Arrays because we used them in part b and c. The 2D arrays were converted into 1D arrays by summing the rows and this conversion was very interesting to me. This is why I think the Key Algorithm is 2D Arrays due to them being used in this FRQ.\n",
    "\n",
    "### Declaration of Data"
   ]
  },
  {
   "cell_type": "markdown",
   "metadata": {},
   "source": [
    "- I had to remove the declaration of data because it had some issues with liquid. Need to find a way to declare data without having issues."
   ]
  },
  {
   "cell_type": "markdown",
   "metadata": {},
   "source": [
    "### Part A"
   ]
  },
  {
   "cell_type": "code",
   "execution_count": 6,
   "metadata": {
    "vscode": {
     "languageId": "java"
    }
   },
   "outputs": [
    {
     "name": "stdout",
     "output_type": "stream",
     "text": [
      "16"
     ]
    }
   ],
   "source": [
    "// Returns the sum of the entries in the one-dimensional array arr.\n",
    "\n",
    "public static int arraySum(int[] arr) {\n",
    "    \n",
    "    int sum = 0;\n",
    "\n",
    "    for(int n : arr) {\n",
    "        sum = sum + n;\n",
    "    }\n",
    "\n",
    "    return sum;\n",
    "}\n",
    "\n",
    "System.out.print(arraySum(arr1)); // Should return 16"
   ]
  },
  {
   "cell_type": "markdown",
   "metadata": {},
   "source": [
    "### Part B"
   ]
  },
  {
   "cell_type": "code",
   "execution_count": 7,
   "metadata": {
    "vscode": {
     "languageId": "java"
    }
   },
   "outputs": [
    {
     "name": "stdout",
     "output_type": "stream",
     "text": [
      "[16, 32, 28, 20]\n",
      "[16, 28, 28, 20]"
     ]
    }
   ],
   "source": [
    "// Returns a one-dimensional array in which the entry at index k is the sum of the entries of row k of the two-dimensional array arr2D.\n",
    "\n",
    "public static int [] rowSums(int[][] arr2D) {\n",
    "\n",
    "    int[] newArray = new int[arr2D.length];\n",
    "\n",
    "    for (int k = 0; k < arr2D.length; k++) {\n",
    "        newArray[k] = arraySum(arr2D[k]);\n",
    "    }\n",
    "\n",
    "    return newArray;\n",
    "}\n",
    "\n",
    "System.out.println(Arrays.toString(rowSums(arr2D1))); // Should return [16, 32, 28, 20]\n",
    "System.out.print(Arrays.toString(rowSums(arr2D2))); // Should return [16, 28, 28, 20]"
   ]
  },
  {
   "cell_type": "markdown",
   "metadata": {},
   "source": [
    "### Part C"
   ]
  },
  {
   "cell_type": "code",
   "execution_count": 8,
   "metadata": {
    "vscode": {
     "languageId": "java"
    }
   },
   "outputs": [
    {
     "name": "stdout",
     "output_type": "stream",
     "text": [
      "true\n",
      "false"
     ]
    }
   ],
   "source": [
    "// Returns true if all rows in arr2D have different row sums; false otherwise.\n",
    "\n",
    "public static boolean isDiverse(int[][] arr2D) {\n",
    "\n",
    "    int [] diverseArray =  rowSums(arr2D);\n",
    "\n",
    "    for (int i = 0; i < diverseArray.length; i++) {\n",
    "        for (int j = i+1; j < diverseArray.length; j++) {\n",
    "            if (diverseArray[i] == diverseArray[j]) {\n",
    "                return false;\n",
    "            }\n",
    "        }\n",
    "    }\n",
    "    \n",
    "    return true;\n",
    "}\n",
    "\n",
    "System.out.println(isDiverse(arr2D1)); // Should return true\n",
    "System.out.print(isDiverse(arr2D2)); // Should return false"
   ]
  }
 ],
 "metadata": {
  "kernelspec": {
   "display_name": "Java",
   "language": "java",
   "name": "java"
  },
  "language_info": {
   "codemirror_mode": "java",
   "file_extension": ".jshell",
   "mimetype": "text/x-java-source",
   "name": "Java",
   "pygments_lexer": "java",
   "version": "17.0.6+9-LTS-190"
  }
 },
 "nbformat": 4,
 "nbformat_minor": 2
}
